{
 "cells": [
  {
   "cell_type": "code",
   "execution_count": 87,
   "id": "67f02f52",
   "metadata": {},
   "outputs": [],
   "source": [
    "import pandas as pd                                              ###### Dataframes\n",
    "import numpy as np                                               ###### Arrays\n",
    "import matplotlib.pyplot as plt                                  ###### Graphs\n",
    "import seaborn as sns                                            ###### More Graphs\n",
    "from scipy import stats                                          ###### Some Statiscical Functions\n",
    "from IPython.display import display\n",
    "import math\n",
    "import warnings \n",
    "warnings.filterwarnings('ignore')\n",
    "from sklearn.preprocessing import OneHotEncoder\n",
    "from sklearn.preprocessing import MinMaxScaler\n",
    "from sklearn.decomposition import PCA"
   ]
  },
  {
   "cell_type": "code",
   "execution_count": 88,
   "id": "138526dd",
   "metadata": {},
   "outputs": [],
   "source": [
    "# Load the data\n",
    "df = pd.read_csv('diabetes2.csv')"
   ]
  },
  {
   "cell_type": "code",
   "execution_count": 89,
   "id": "696d5826",
   "metadata": {},
   "outputs": [
    {
     "data": {
      "text/html": [
       "<div>\n",
       "<style scoped>\n",
       "    .dataframe tbody tr th:only-of-type {\n",
       "        vertical-align: middle;\n",
       "    }\n",
       "\n",
       "    .dataframe tbody tr th {\n",
       "        vertical-align: top;\n",
       "    }\n",
       "\n",
       "    .dataframe thead th {\n",
       "        text-align: right;\n",
       "    }\n",
       "</style>\n",
       "<table border=\"1\" class=\"dataframe\">\n",
       "  <thead>\n",
       "    <tr style=\"text-align: right;\">\n",
       "      <th></th>\n",
       "      <th>Pregnancies</th>\n",
       "      <th>Glucose</th>\n",
       "      <th>BloodPressure</th>\n",
       "      <th>SkinThickness</th>\n",
       "      <th>Insulin</th>\n",
       "      <th>BMI</th>\n",
       "      <th>DiabetesPedigreeFunction</th>\n",
       "      <th>Age</th>\n",
       "      <th>Outcome</th>\n",
       "    </tr>\n",
       "  </thead>\n",
       "  <tbody>\n",
       "    <tr>\n",
       "      <th>0</th>\n",
       "      <td>6</td>\n",
       "      <td>148</td>\n",
       "      <td>72</td>\n",
       "      <td>35</td>\n",
       "      <td>0</td>\n",
       "      <td>33.6</td>\n",
       "      <td>0.627</td>\n",
       "      <td>50</td>\n",
       "      <td>1</td>\n",
       "    </tr>\n",
       "    <tr>\n",
       "      <th>1</th>\n",
       "      <td>1</td>\n",
       "      <td>85</td>\n",
       "      <td>66</td>\n",
       "      <td>29</td>\n",
       "      <td>0</td>\n",
       "      <td>26.6</td>\n",
       "      <td>0.351</td>\n",
       "      <td>31</td>\n",
       "      <td>0</td>\n",
       "    </tr>\n",
       "    <tr>\n",
       "      <th>2</th>\n",
       "      <td>8</td>\n",
       "      <td>183</td>\n",
       "      <td>64</td>\n",
       "      <td>0</td>\n",
       "      <td>0</td>\n",
       "      <td>23.3</td>\n",
       "      <td>0.672</td>\n",
       "      <td>32</td>\n",
       "      <td>1</td>\n",
       "    </tr>\n",
       "    <tr>\n",
       "      <th>3</th>\n",
       "      <td>1</td>\n",
       "      <td>89</td>\n",
       "      <td>66</td>\n",
       "      <td>23</td>\n",
       "      <td>94</td>\n",
       "      <td>28.1</td>\n",
       "      <td>0.167</td>\n",
       "      <td>21</td>\n",
       "      <td>0</td>\n",
       "    </tr>\n",
       "    <tr>\n",
       "      <th>4</th>\n",
       "      <td>0</td>\n",
       "      <td>137</td>\n",
       "      <td>40</td>\n",
       "      <td>35</td>\n",
       "      <td>168</td>\n",
       "      <td>43.1</td>\n",
       "      <td>2.288</td>\n",
       "      <td>33</td>\n",
       "      <td>1</td>\n",
       "    </tr>\n",
       "  </tbody>\n",
       "</table>\n",
       "</div>"
      ],
      "text/plain": [
       "   Pregnancies  Glucose  BloodPressure  SkinThickness  Insulin   BMI  \\\n",
       "0            6      148             72             35        0  33.6   \n",
       "1            1       85             66             29        0  26.6   \n",
       "2            8      183             64              0        0  23.3   \n",
       "3            1       89             66             23       94  28.1   \n",
       "4            0      137             40             35      168  43.1   \n",
       "\n",
       "   DiabetesPedigreeFunction  Age  Outcome  \n",
       "0                     0.627   50        1  \n",
       "1                     0.351   31        0  \n",
       "2                     0.672   32        1  \n",
       "3                     0.167   21        0  \n",
       "4                     2.288   33        1  "
      ]
     },
     "execution_count": 89,
     "metadata": {},
     "output_type": "execute_result"
    }
   ],
   "source": [
    "df.head()"
   ]
  },
  {
   "cell_type": "markdown",
   "id": "b261f754",
   "metadata": {},
   "source": [
    "# Problem Statement \n",
    "## The objective is to predict based on diagnostic measurements whether a patient has diabetes."
   ]
  },
  {
   "cell_type": "code",
   "execution_count": 90,
   "id": "3dfb8bdf",
   "metadata": {},
   "outputs": [
    {
     "data": {
      "text/plain": [
       "'The first few rows : '"
      ]
     },
     "metadata": {},
     "output_type": "display_data"
    },
    {
     "data": {
      "text/html": [
       "<div>\n",
       "<style scoped>\n",
       "    .dataframe tbody tr th:only-of-type {\n",
       "        vertical-align: middle;\n",
       "    }\n",
       "\n",
       "    .dataframe tbody tr th {\n",
       "        vertical-align: top;\n",
       "    }\n",
       "\n",
       "    .dataframe thead th {\n",
       "        text-align: right;\n",
       "    }\n",
       "</style>\n",
       "<table border=\"1\" class=\"dataframe\">\n",
       "  <thead>\n",
       "    <tr style=\"text-align: right;\">\n",
       "      <th></th>\n",
       "      <th>Pregnancies</th>\n",
       "      <th>Glucose</th>\n",
       "      <th>BloodPressure</th>\n",
       "      <th>SkinThickness</th>\n",
       "      <th>Insulin</th>\n",
       "      <th>BMI</th>\n",
       "      <th>DiabetesPedigreeFunction</th>\n",
       "      <th>Age</th>\n",
       "      <th>Outcome</th>\n",
       "    </tr>\n",
       "  </thead>\n",
       "  <tbody>\n",
       "    <tr>\n",
       "      <th>0</th>\n",
       "      <td>6</td>\n",
       "      <td>148</td>\n",
       "      <td>72</td>\n",
       "      <td>35</td>\n",
       "      <td>0</td>\n",
       "      <td>33.6</td>\n",
       "      <td>0.627</td>\n",
       "      <td>50</td>\n",
       "      <td>1</td>\n",
       "    </tr>\n",
       "    <tr>\n",
       "      <th>1</th>\n",
       "      <td>1</td>\n",
       "      <td>85</td>\n",
       "      <td>66</td>\n",
       "      <td>29</td>\n",
       "      <td>0</td>\n",
       "      <td>26.6</td>\n",
       "      <td>0.351</td>\n",
       "      <td>31</td>\n",
       "      <td>0</td>\n",
       "    </tr>\n",
       "    <tr>\n",
       "      <th>2</th>\n",
       "      <td>8</td>\n",
       "      <td>183</td>\n",
       "      <td>64</td>\n",
       "      <td>0</td>\n",
       "      <td>0</td>\n",
       "      <td>23.3</td>\n",
       "      <td>0.672</td>\n",
       "      <td>32</td>\n",
       "      <td>1</td>\n",
       "    </tr>\n",
       "    <tr>\n",
       "      <th>3</th>\n",
       "      <td>1</td>\n",
       "      <td>89</td>\n",
       "      <td>66</td>\n",
       "      <td>23</td>\n",
       "      <td>94</td>\n",
       "      <td>28.1</td>\n",
       "      <td>0.167</td>\n",
       "      <td>21</td>\n",
       "      <td>0</td>\n",
       "    </tr>\n",
       "    <tr>\n",
       "      <th>4</th>\n",
       "      <td>0</td>\n",
       "      <td>137</td>\n",
       "      <td>40</td>\n",
       "      <td>35</td>\n",
       "      <td>168</td>\n",
       "      <td>43.1</td>\n",
       "      <td>2.288</td>\n",
       "      <td>33</td>\n",
       "      <td>1</td>\n",
       "    </tr>\n",
       "  </tbody>\n",
       "</table>\n",
       "</div>"
      ],
      "text/plain": [
       "   Pregnancies  Glucose  BloodPressure  SkinThickness  Insulin   BMI  \\\n",
       "0            6      148             72             35        0  33.6   \n",
       "1            1       85             66             29        0  26.6   \n",
       "2            8      183             64              0        0  23.3   \n",
       "3            1       89             66             23       94  28.1   \n",
       "4            0      137             40             35      168  43.1   \n",
       "\n",
       "   DiabetesPedigreeFunction  Age  Outcome  \n",
       "0                     0.627   50        1  \n",
       "1                     0.351   31        0  \n",
       "2                     0.672   32        1  \n",
       "3                     0.167   21        0  \n",
       "4                     2.288   33        1  "
      ]
     },
     "metadata": {},
     "output_type": "display_data"
    }
   ],
   "source": [
    "display('The first few rows : ', df.head())"
   ]
  },
  {
   "cell_type": "code",
   "execution_count": 91,
   "id": "115d36f8",
   "metadata": {},
   "outputs": [
    {
     "data": {
      "text/plain": [
       "' The Last Few Rows of our Data : '"
      ]
     },
     "metadata": {},
     "output_type": "display_data"
    },
    {
     "data": {
      "text/html": [
       "<div>\n",
       "<style scoped>\n",
       "    .dataframe tbody tr th:only-of-type {\n",
       "        vertical-align: middle;\n",
       "    }\n",
       "\n",
       "    .dataframe tbody tr th {\n",
       "        vertical-align: top;\n",
       "    }\n",
       "\n",
       "    .dataframe thead th {\n",
       "        text-align: right;\n",
       "    }\n",
       "</style>\n",
       "<table border=\"1\" class=\"dataframe\">\n",
       "  <thead>\n",
       "    <tr style=\"text-align: right;\">\n",
       "      <th></th>\n",
       "      <th>Pregnancies</th>\n",
       "      <th>Glucose</th>\n",
       "      <th>BloodPressure</th>\n",
       "      <th>SkinThickness</th>\n",
       "      <th>Insulin</th>\n",
       "      <th>BMI</th>\n",
       "      <th>DiabetesPedigreeFunction</th>\n",
       "      <th>Age</th>\n",
       "      <th>Outcome</th>\n",
       "    </tr>\n",
       "  </thead>\n",
       "  <tbody>\n",
       "    <tr>\n",
       "      <th>763</th>\n",
       "      <td>10</td>\n",
       "      <td>101</td>\n",
       "      <td>76</td>\n",
       "      <td>48</td>\n",
       "      <td>180</td>\n",
       "      <td>32.9</td>\n",
       "      <td>0.171</td>\n",
       "      <td>63</td>\n",
       "      <td>0</td>\n",
       "    </tr>\n",
       "    <tr>\n",
       "      <th>764</th>\n",
       "      <td>2</td>\n",
       "      <td>122</td>\n",
       "      <td>70</td>\n",
       "      <td>27</td>\n",
       "      <td>0</td>\n",
       "      <td>36.8</td>\n",
       "      <td>0.340</td>\n",
       "      <td>27</td>\n",
       "      <td>0</td>\n",
       "    </tr>\n",
       "    <tr>\n",
       "      <th>765</th>\n",
       "      <td>5</td>\n",
       "      <td>121</td>\n",
       "      <td>72</td>\n",
       "      <td>23</td>\n",
       "      <td>112</td>\n",
       "      <td>26.2</td>\n",
       "      <td>0.245</td>\n",
       "      <td>30</td>\n",
       "      <td>0</td>\n",
       "    </tr>\n",
       "    <tr>\n",
       "      <th>766</th>\n",
       "      <td>1</td>\n",
       "      <td>126</td>\n",
       "      <td>60</td>\n",
       "      <td>0</td>\n",
       "      <td>0</td>\n",
       "      <td>30.1</td>\n",
       "      <td>0.349</td>\n",
       "      <td>47</td>\n",
       "      <td>1</td>\n",
       "    </tr>\n",
       "    <tr>\n",
       "      <th>767</th>\n",
       "      <td>1</td>\n",
       "      <td>93</td>\n",
       "      <td>70</td>\n",
       "      <td>31</td>\n",
       "      <td>0</td>\n",
       "      <td>30.4</td>\n",
       "      <td>0.315</td>\n",
       "      <td>23</td>\n",
       "      <td>0</td>\n",
       "    </tr>\n",
       "  </tbody>\n",
       "</table>\n",
       "</div>"
      ],
      "text/plain": [
       "     Pregnancies  Glucose  BloodPressure  SkinThickness  Insulin   BMI  \\\n",
       "763           10      101             76             48      180  32.9   \n",
       "764            2      122             70             27        0  36.8   \n",
       "765            5      121             72             23      112  26.2   \n",
       "766            1      126             60              0        0  30.1   \n",
       "767            1       93             70             31        0  30.4   \n",
       "\n",
       "     DiabetesPedigreeFunction  Age  Outcome  \n",
       "763                     0.171   63        0  \n",
       "764                     0.340   27        0  \n",
       "765                     0.245   30        0  \n",
       "766                     0.349   47        1  \n",
       "767                     0.315   23        0  "
      ]
     },
     "metadata": {},
     "output_type": "display_data"
    }
   ],
   "source": [
    "display(' The Last Few Rows of our Data : ', df.tail())"
   ]
  },
  {
   "cell_type": "code",
   "execution_count": 92,
   "id": "c5c42645",
   "metadata": {},
   "outputs": [
    {
     "data": {
      "text/plain": [
       "' The Random Few Rows of our Data :'"
      ]
     },
     "metadata": {},
     "output_type": "display_data"
    },
    {
     "data": {
      "text/html": [
       "<div>\n",
       "<style scoped>\n",
       "    .dataframe tbody tr th:only-of-type {\n",
       "        vertical-align: middle;\n",
       "    }\n",
       "\n",
       "    .dataframe tbody tr th {\n",
       "        vertical-align: top;\n",
       "    }\n",
       "\n",
       "    .dataframe thead th {\n",
       "        text-align: right;\n",
       "    }\n",
       "</style>\n",
       "<table border=\"1\" class=\"dataframe\">\n",
       "  <thead>\n",
       "    <tr style=\"text-align: right;\">\n",
       "      <th></th>\n",
       "      <th>Pregnancies</th>\n",
       "      <th>Glucose</th>\n",
       "      <th>BloodPressure</th>\n",
       "      <th>SkinThickness</th>\n",
       "      <th>Insulin</th>\n",
       "      <th>BMI</th>\n",
       "      <th>DiabetesPedigreeFunction</th>\n",
       "      <th>Age</th>\n",
       "      <th>Outcome</th>\n",
       "    </tr>\n",
       "  </thead>\n",
       "  <tbody>\n",
       "    <tr>\n",
       "      <th>737</th>\n",
       "      <td>8</td>\n",
       "      <td>65</td>\n",
       "      <td>72</td>\n",
       "      <td>23</td>\n",
       "      <td>0</td>\n",
       "      <td>32.0</td>\n",
       "      <td>0.600</td>\n",
       "      <td>42</td>\n",
       "      <td>0</td>\n",
       "    </tr>\n",
       "    <tr>\n",
       "      <th>0</th>\n",
       "      <td>6</td>\n",
       "      <td>148</td>\n",
       "      <td>72</td>\n",
       "      <td>35</td>\n",
       "      <td>0</td>\n",
       "      <td>33.6</td>\n",
       "      <td>0.627</td>\n",
       "      <td>50</td>\n",
       "      <td>1</td>\n",
       "    </tr>\n",
       "    <tr>\n",
       "      <th>430</th>\n",
       "      <td>2</td>\n",
       "      <td>99</td>\n",
       "      <td>0</td>\n",
       "      <td>0</td>\n",
       "      <td>0</td>\n",
       "      <td>22.2</td>\n",
       "      <td>0.108</td>\n",
       "      <td>23</td>\n",
       "      <td>0</td>\n",
       "    </tr>\n",
       "    <tr>\n",
       "      <th>225</th>\n",
       "      <td>1</td>\n",
       "      <td>87</td>\n",
       "      <td>78</td>\n",
       "      <td>27</td>\n",
       "      <td>32</td>\n",
       "      <td>34.6</td>\n",
       "      <td>0.101</td>\n",
       "      <td>22</td>\n",
       "      <td>0</td>\n",
       "    </tr>\n",
       "    <tr>\n",
       "      <th>202</th>\n",
       "      <td>0</td>\n",
       "      <td>108</td>\n",
       "      <td>68</td>\n",
       "      <td>20</td>\n",
       "      <td>0</td>\n",
       "      <td>27.3</td>\n",
       "      <td>0.787</td>\n",
       "      <td>32</td>\n",
       "      <td>0</td>\n",
       "    </tr>\n",
       "  </tbody>\n",
       "</table>\n",
       "</div>"
      ],
      "text/plain": [
       "     Pregnancies  Glucose  BloodPressure  SkinThickness  Insulin   BMI  \\\n",
       "737            8       65             72             23        0  32.0   \n",
       "0              6      148             72             35        0  33.6   \n",
       "430            2       99              0              0        0  22.2   \n",
       "225            1       87             78             27       32  34.6   \n",
       "202            0      108             68             20        0  27.3   \n",
       "\n",
       "     DiabetesPedigreeFunction  Age  Outcome  \n",
       "737                     0.600   42        0  \n",
       "0                       0.627   50        1  \n",
       "430                     0.108   23        0  \n",
       "225                     0.101   22        0  \n",
       "202                     0.787   32        0  "
      ]
     },
     "metadata": {},
     "output_type": "display_data"
    }
   ],
   "source": [
    "display(' The Random Few Rows of our Data :' , df.sample(5))"
   ]
  },
  {
   "cell_type": "code",
   "execution_count": 93,
   "id": "363f9cd5",
   "metadata": {},
   "outputs": [
    {
     "data": {
      "text/plain": [
       "' The Shape of the Data : '"
      ]
     },
     "metadata": {},
     "output_type": "display_data"
    },
    {
     "data": {
      "text/plain": [
       "(768, 9)"
      ]
     },
     "metadata": {},
     "output_type": "display_data"
    }
   ],
   "source": [
    "display(' The Shape of the Data : ', df.shape)"
   ]
  },
  {
   "cell_type": "code",
   "execution_count": 94,
   "id": "eb1faa56",
   "metadata": {},
   "outputs": [
    {
     "data": {
      "text/plain": [
       "'The Columns of the Dataset :'"
      ]
     },
     "metadata": {},
     "output_type": "display_data"
    },
    {
     "data": {
      "text/plain": [
       "Index(['Pregnancies', 'Glucose', 'BloodPressure', 'SkinThickness', 'Insulin',\n",
       "       'BMI', 'DiabetesPedigreeFunction', 'Age', 'Outcome'],\n",
       "      dtype='object')"
      ]
     },
     "metadata": {},
     "output_type": "display_data"
    }
   ],
   "source": [
    "display('The Columns of the Dataset :', df.columns)"
   ]
  },
  {
   "cell_type": "code",
   "execution_count": 95,
   "id": "dfd8de7f",
   "metadata": {},
   "outputs": [
    {
     "data": {
      "text/plain": [
       "'The types of data in these columns :'"
      ]
     },
     "metadata": {},
     "output_type": "display_data"
    },
    {
     "data": {
      "text/plain": [
       "Pregnancies                   int64\n",
       "Glucose                       int64\n",
       "BloodPressure                 int64\n",
       "SkinThickness                 int64\n",
       "Insulin                       int64\n",
       "BMI                         float64\n",
       "DiabetesPedigreeFunction    float64\n",
       "Age                           int64\n",
       "Outcome                       int64\n",
       "dtype: object"
      ]
     },
     "metadata": {},
     "output_type": "display_data"
    }
   ],
   "source": [
    "display('The types of data in these columns :', df.dtypes)"
   ]
  },
  {
   "cell_type": "code",
   "execution_count": 96,
   "id": "186bd32a",
   "metadata": {},
   "outputs": [
    {
     "data": {
      "text/plain": [
       "'Unique Values in the each column :'"
      ]
     },
     "metadata": {},
     "output_type": "display_data"
    },
    {
     "data": {
      "text/plain": [
       "Pregnancies                  17\n",
       "Glucose                     136\n",
       "BloodPressure                47\n",
       "SkinThickness                51\n",
       "Insulin                     186\n",
       "BMI                         248\n",
       "DiabetesPedigreeFunction    517\n",
       "Age                          52\n",
       "Outcome                       2\n",
       "dtype: int64"
      ]
     },
     "metadata": {},
     "output_type": "display_data"
    }
   ],
   "source": [
    "display('Unique Values in the each column :', df.nunique())"
   ]
  },
  {
   "cell_type": "code",
   "execution_count": 97,
   "id": "25fc99df",
   "metadata": {},
   "outputs": [
    {
     "data": {
      "text/plain": [
       "'Null Values in the Data : '"
      ]
     },
     "metadata": {},
     "output_type": "display_data"
    },
    {
     "data": {
      "text/plain": [
       "Pregnancies                 0\n",
       "Glucose                     0\n",
       "BloodPressure               0\n",
       "SkinThickness               0\n",
       "Insulin                     0\n",
       "BMI                         0\n",
       "DiabetesPedigreeFunction    0\n",
       "Age                         0\n",
       "Outcome                     0\n",
       "dtype: int64"
      ]
     },
     "metadata": {},
     "output_type": "display_data"
    }
   ],
   "source": [
    "display('Null Values in the Data : ', df.isnull().sum() )"
   ]
  },
  {
   "cell_type": "code",
   "execution_count": 98,
   "id": "03df0476",
   "metadata": {},
   "outputs": [
    {
     "name": "stdout",
     "output_type": "stream",
     "text": [
      "<class 'pandas.core.frame.DataFrame'>\n",
      "RangeIndex: 768 entries, 0 to 767\n",
      "Data columns (total 9 columns):\n",
      " #   Column                    Non-Null Count  Dtype  \n",
      "---  ------                    --------------  -----  \n",
      " 0   Pregnancies               768 non-null    int64  \n",
      " 1   Glucose                   768 non-null    int64  \n",
      " 2   BloodPressure             768 non-null    int64  \n",
      " 3   SkinThickness             768 non-null    int64  \n",
      " 4   Insulin                   768 non-null    int64  \n",
      " 5   BMI                       768 non-null    float64\n",
      " 6   DiabetesPedigreeFunction  768 non-null    float64\n",
      " 7   Age                       768 non-null    int64  \n",
      " 8   Outcome                   768 non-null    int64  \n",
      "dtypes: float64(2), int64(7)\n",
      "memory usage: 54.1 KB\n"
     ]
    },
    {
     "data": {
      "text/plain": [
       "'Columnwise list of non null values : '"
      ]
     },
     "metadata": {},
     "output_type": "display_data"
    },
    {
     "data": {
      "text/plain": [
       "None"
      ]
     },
     "metadata": {},
     "output_type": "display_data"
    }
   ],
   "source": [
    "display('Columnwise list of non null values : ', df.info())"
   ]
  },
  {
   "cell_type": "code",
   "execution_count": 99,
   "id": "26ea6b12",
   "metadata": {},
   "outputs": [
    {
     "data": {
      "text/plain": [
       "' Univariate Analysis: Descriptive Statistics'"
      ]
     },
     "metadata": {},
     "output_type": "display_data"
    }
   ],
   "source": [
    "display(' Univariate Analysis: Descriptive Statistics')"
   ]
  },
  {
   "cell_type": "markdown",
   "id": "2965af94",
   "metadata": {},
   "source": [
    "# Descriptive Statistics"
   ]
  },
  {
   "cell_type": "code",
   "execution_count": 100,
   "id": "8090a6cc",
   "metadata": {},
   "outputs": [
    {
     "data": {
      "text/plain": [
       "'1. All descriptive statistics : '"
      ]
     },
     "metadata": {},
     "output_type": "display_data"
    },
    {
     "data": {
      "text/html": [
       "<div>\n",
       "<style scoped>\n",
       "    .dataframe tbody tr th:only-of-type {\n",
       "        vertical-align: middle;\n",
       "    }\n",
       "\n",
       "    .dataframe tbody tr th {\n",
       "        vertical-align: top;\n",
       "    }\n",
       "\n",
       "    .dataframe thead th {\n",
       "        text-align: right;\n",
       "    }\n",
       "</style>\n",
       "<table border=\"1\" class=\"dataframe\">\n",
       "  <thead>\n",
       "    <tr style=\"text-align: right;\">\n",
       "      <th></th>\n",
       "      <th>count</th>\n",
       "      <th>mean</th>\n",
       "      <th>std</th>\n",
       "      <th>min</th>\n",
       "      <th>25%</th>\n",
       "      <th>50%</th>\n",
       "      <th>75%</th>\n",
       "      <th>max</th>\n",
       "    </tr>\n",
       "  </thead>\n",
       "  <tbody>\n",
       "    <tr>\n",
       "      <th>Pregnancies</th>\n",
       "      <td>768.0</td>\n",
       "      <td>3.845052</td>\n",
       "      <td>3.369578</td>\n",
       "      <td>0.000</td>\n",
       "      <td>1.00000</td>\n",
       "      <td>3.0000</td>\n",
       "      <td>6.00000</td>\n",
       "      <td>17.00</td>\n",
       "    </tr>\n",
       "    <tr>\n",
       "      <th>Glucose</th>\n",
       "      <td>768.0</td>\n",
       "      <td>120.894531</td>\n",
       "      <td>31.972618</td>\n",
       "      <td>0.000</td>\n",
       "      <td>99.00000</td>\n",
       "      <td>117.0000</td>\n",
       "      <td>140.25000</td>\n",
       "      <td>199.00</td>\n",
       "    </tr>\n",
       "    <tr>\n",
       "      <th>BloodPressure</th>\n",
       "      <td>768.0</td>\n",
       "      <td>69.105469</td>\n",
       "      <td>19.355807</td>\n",
       "      <td>0.000</td>\n",
       "      <td>62.00000</td>\n",
       "      <td>72.0000</td>\n",
       "      <td>80.00000</td>\n",
       "      <td>122.00</td>\n",
       "    </tr>\n",
       "    <tr>\n",
       "      <th>SkinThickness</th>\n",
       "      <td>768.0</td>\n",
       "      <td>20.536458</td>\n",
       "      <td>15.952218</td>\n",
       "      <td>0.000</td>\n",
       "      <td>0.00000</td>\n",
       "      <td>23.0000</td>\n",
       "      <td>32.00000</td>\n",
       "      <td>99.00</td>\n",
       "    </tr>\n",
       "    <tr>\n",
       "      <th>Insulin</th>\n",
       "      <td>768.0</td>\n",
       "      <td>79.799479</td>\n",
       "      <td>115.244002</td>\n",
       "      <td>0.000</td>\n",
       "      <td>0.00000</td>\n",
       "      <td>30.5000</td>\n",
       "      <td>127.25000</td>\n",
       "      <td>846.00</td>\n",
       "    </tr>\n",
       "    <tr>\n",
       "      <th>BMI</th>\n",
       "      <td>768.0</td>\n",
       "      <td>31.992578</td>\n",
       "      <td>7.884160</td>\n",
       "      <td>0.000</td>\n",
       "      <td>27.30000</td>\n",
       "      <td>32.0000</td>\n",
       "      <td>36.60000</td>\n",
       "      <td>67.10</td>\n",
       "    </tr>\n",
       "    <tr>\n",
       "      <th>DiabetesPedigreeFunction</th>\n",
       "      <td>768.0</td>\n",
       "      <td>0.471876</td>\n",
       "      <td>0.331329</td>\n",
       "      <td>0.078</td>\n",
       "      <td>0.24375</td>\n",
       "      <td>0.3725</td>\n",
       "      <td>0.62625</td>\n",
       "      <td>2.42</td>\n",
       "    </tr>\n",
       "    <tr>\n",
       "      <th>Age</th>\n",
       "      <td>768.0</td>\n",
       "      <td>33.240885</td>\n",
       "      <td>11.760232</td>\n",
       "      <td>21.000</td>\n",
       "      <td>24.00000</td>\n",
       "      <td>29.0000</td>\n",
       "      <td>41.00000</td>\n",
       "      <td>81.00</td>\n",
       "    </tr>\n",
       "    <tr>\n",
       "      <th>Outcome</th>\n",
       "      <td>768.0</td>\n",
       "      <td>0.348958</td>\n",
       "      <td>0.476951</td>\n",
       "      <td>0.000</td>\n",
       "      <td>0.00000</td>\n",
       "      <td>0.0000</td>\n",
       "      <td>1.00000</td>\n",
       "      <td>1.00</td>\n",
       "    </tr>\n",
       "  </tbody>\n",
       "</table>\n",
       "</div>"
      ],
      "text/plain": [
       "                          count        mean         std     min       25%  \\\n",
       "Pregnancies               768.0    3.845052    3.369578   0.000   1.00000   \n",
       "Glucose                   768.0  120.894531   31.972618   0.000  99.00000   \n",
       "BloodPressure             768.0   69.105469   19.355807   0.000  62.00000   \n",
       "SkinThickness             768.0   20.536458   15.952218   0.000   0.00000   \n",
       "Insulin                   768.0   79.799479  115.244002   0.000   0.00000   \n",
       "BMI                       768.0   31.992578    7.884160   0.000  27.30000   \n",
       "DiabetesPedigreeFunction  768.0    0.471876    0.331329   0.078   0.24375   \n",
       "Age                       768.0   33.240885   11.760232  21.000  24.00000   \n",
       "Outcome                   768.0    0.348958    0.476951   0.000   0.00000   \n",
       "\n",
       "                               50%        75%     max  \n",
       "Pregnancies                 3.0000    6.00000   17.00  \n",
       "Glucose                   117.0000  140.25000  199.00  \n",
       "BloodPressure              72.0000   80.00000  122.00  \n",
       "SkinThickness              23.0000   32.00000   99.00  \n",
       "Insulin                    30.5000  127.25000  846.00  \n",
       "BMI                        32.0000   36.60000   67.10  \n",
       "DiabetesPedigreeFunction    0.3725    0.62625    2.42  \n",
       "Age                        29.0000   41.00000   81.00  \n",
       "Outcome                     0.0000    1.00000    1.00  "
      ]
     },
     "metadata": {},
     "output_type": "display_data"
    }
   ],
   "source": [
    "display('1. All descriptive statistics : ', df.describe().T )"
   ]
  },
  {
   "cell_type": "markdown",
   "id": "b9fc4d12",
   "metadata": {},
   "source": [
    "### Descriptive statistics is like the five point summary of the feature , its equivalent is box plot"
   ]
  },
  {
   "cell_type": "raw",
   "id": "57032207",
   "metadata": {},
   "source": [
    "## When plotting the boxplot if we plot complete df together , then since the ranges are different , a complete understanding becomes difficult, for the same range(min,max) it can be plotted together "
   ]
  },
  {
   "cell_type": "code",
   "execution_count": 101,
   "id": "dd8721ab",
   "metadata": {},
   "outputs": [
    {
     "data": {
      "image/png": "[encoded data removed]",
      "text/plain": [
       "<Figure size 1000x600 with 1 Axes>"
      ]
     },
     "metadata": {},
     "output_type": "display_data"
    }
   ],
   "source": [
    "# setting the dimensions of the plot\n",
    "fig, ax = plt.subplots(figsize=(10, 6))\n",
    "# display boxplot to see outliers\n",
    "sns.boxplot(data = df.Pregnancies,ax=ax, linewidth = 1.5 )\n",
    "plt.show()"
   ]
  },
  {
   "cell_type": "markdown",
   "id": "155fbee6",
   "metadata": {},
   "source": [
    "If the length of the upper whisker in a box plot is more than the length of the lower whisker by a factor of at least 2 (i.e., the length of the upper whisker is more than 1.5 times the length of the lower whisker), then it indicates that the data may have outliers on the upper end. This is because the upper whisker extends to the maximum value in the dataset that is not an outlier, which could be far from the third quartile (Q3).\n",
    "\n",
    "On the other hand, if the length of the lower whisker is more than the length of the upper whisker by a factor of at least 2 (i.e., the length of the lower whisker is more than 1.5 times the length of the upper whisker), then it indicates that the data may have outliers on the lower end. This is because the lower whisker extends to the minimum value in the dataset that is not an outlier, which could be far from the first quartile (Q1).\n",
    "\n",
    "In summary, a longer upper whisker compared to the lower whisker indicates potential outliers on the upper end, while a longer lower whisker compared to the upper whisker indicates potential outliers on the lower end. This information can be used to identify and investigate potential outliers in the data."
   ]
  },
  {
   "cell_type": "raw",
   "id": "9517b43c",
   "metadata": {},
   "source": [
    "From Above boxplot of pregnancies it can be seen that the length of upper whisker is 1.5 times more than the lower whisker \n",
    " it is indicating the outliers are there on upper end, median is also more toward the Q1  "
   ]
  },
  {
   "cell_type": "code",
   "execution_count": 102,
   "id": "ce9a6e88",
   "metadata": {},
   "outputs": [
    {
     "data": {
      "text/plain": [
       "<AxesSubplot:>"
      ]
     },
     "execution_count": 102,
     "metadata": {},
     "output_type": "execute_result"
    },
    {
     "data": {
      "image/png": "[encoded data removed]",
      "text/plain": [
       "<Figure size 500x500 with 1 Axes>"
      ]
     },
     "metadata": {},
     "output_type": "display_data"
    }
   ],
   "source": [
    "# GLucose\n",
    "sns.boxplot(data = df.Glucose)"
   ]
  },
  {
   "cell_type": "markdown",
   "id": "8baa2513",
   "metadata": {},
   "source": [
    "Upper whsiker and lower whisker are of same length, one outlier can be seen in the plot"
   ]
  },
  {
   "cell_type": "code",
   "execution_count": 103,
   "id": "11198b4e",
   "metadata": {},
   "outputs": [
    {
     "data": {
      "text/plain": [
       "<AxesSubplot:>"
      ]
     },
     "execution_count": 103,
     "metadata": {},
     "output_type": "execute_result"
    },
    {
     "data": {
      "image/png": "[encoded data removed]",
      "text/plain": [
       "<Figure size 500x500 with 1 Axes>"
      ]
     },
     "metadata": {},
     "output_type": "display_data"
    }
   ],
   "source": [
    "# Blood Pressure\n",
    "sns.boxplot(data = df.BloodPressure)"
   ]
  },
  {
   "cell_type": "markdown",
   "id": "566cf030",
   "metadata": {},
   "source": [
    "Outlier on both lower and upper side , median is not shifted , whiskers are of same length , look normally distributed from this "
   ]
  },
  {
   "cell_type": "code",
   "execution_count": 104,
   "id": "58a0a9c2",
   "metadata": {},
   "outputs": [
    {
     "data": {
      "text/plain": [
       "<AxesSubplot:>"
      ]
     },
     "execution_count": 104,
     "metadata": {},
     "output_type": "execute_result"
    },
    {
     "data": {
      "image/png": "[encoded data removed]",
      "text/plain": [
       "<Figure size 500x500 with 1 Axes>"
      ]
     },
     "metadata": {},
     "output_type": "display_data"
    }
   ],
   "source": [
    "#SkinThickness\n",
    "sns.boxplot(data = df['SkinThickness'])"
   ]
  },
  {
   "cell_type": "markdown",
   "id": "cd63bd96",
   "metadata": {},
   "source": [
    "No lower whisker , q1 and minimum is same value. It means that all of the datapoints in the dataset are greater than lower end of the box. In other words there are no datapoints that fall below the lower quartile of the dataset.\n",
    "\n",
    "This can happen when the dataset is heavily skewed to the right, with most of the values concentrated towards the upper end of the range. In such cases, the lower whisker may be too short to be plotted on the box plot, as all the values are concentrated in the upper range of the dataset."
   ]
  },
  {
   "cell_type": "code",
   "execution_count": 105,
   "id": "5dcb7083",
   "metadata": {},
   "outputs": [
    {
     "data": {
      "text/plain": [
       "<AxesSubplot:>"
      ]
     },
     "execution_count": 105,
     "metadata": {},
     "output_type": "execute_result"
    },
    {
     "data": {
      "image/png": "[encoded data removed]",
      "text/plain": [
       "<Figure size 500x500 with 1 Axes>"
      ]
     },
     "metadata": {},
     "output_type": "display_data"
    }
   ],
   "source": [
    "# INsulin\n",
    "sns.boxplot(data = df.Insulin, orient = 'h')"
   ]
  },
  {
   "cell_type": "markdown",
   "id": "545e3175",
   "metadata": {},
   "source": [
    "### There are outliers in the Insulin but the data is Right skewed , this can be seen from the violin plot"
   ]
  },
  {
   "cell_type": "code",
   "execution_count": 106,
   "id": "05d79454",
   "metadata": {},
   "outputs": [
    {
     "data": {
      "text/plain": [
       "<AxesSubplot:>"
      ]
     },
     "execution_count": 106,
     "metadata": {},
     "output_type": "execute_result"
    },
    {
     "data": {
      "image/png": "[encoded data removed]",
      "text/plain": [
       "<Figure size 500x500 with 1 Axes>"
      ]
     },
     "metadata": {},
     "output_type": "display_data"
    }
   ],
   "source": [
    "sns.violinplot(data = df.Insulin, orient = 'h')"
   ]
  },
  {
   "cell_type": "markdown",
   "id": "3de77188",
   "metadata": {},
   "source": [
    "### The distribution shows it is right skewed the tail is longer towards right , the data points are more towards left so median is shifted more towards Q1"
   ]
  },
  {
   "cell_type": "code",
   "execution_count": 107,
   "id": "69908d0a",
   "metadata": {},
   "outputs": [
    {
     "data": {
      "text/plain": [
       "<AxesSubplot:>"
      ]
     },
     "execution_count": 107,
     "metadata": {},
     "output_type": "execute_result"
    },
    {
     "data": {
      "image/png": "[encoded data removed]",
      "text/plain": [
       "<Figure size 500x500 with 1 Axes>"
      ]
     },
     "metadata": {},
     "output_type": "display_data"
    }
   ],
   "source": [
    "#Diabetes Pedigree Function\n",
    "sns.boxplot(data = df.DiabetesPedigreeFunction)"
   ]
  },
  {
   "cell_type": "markdown",
   "id": "0bfe80ec",
   "metadata": {},
   "source": [
    "### Right skewed data\n",
    "### Outliers above Q3\n",
    "### Median shifted more towards q1, more data point closer to q1\n",
    "### lower whsiker is smaller than upper whisker \n"
   ]
  },
  {
   "cell_type": "code",
   "execution_count": 108,
   "id": "31b7282e",
   "metadata": {},
   "outputs": [
    {
     "data": {
      "text/plain": [
       "<AxesSubplot:>"
      ]
     },
     "execution_count": 108,
     "metadata": {},
     "output_type": "execute_result"
    },
    {
     "data": {
      "image/png": "[encoded data removed]",
      "text/plain": [
       "<Figure size 500x500 with 1 Axes>"
      ]
     },
     "metadata": {},
     "output_type": "display_data"
    }
   ],
   "source": [
    "## AGe \n",
    "sns.boxplot(data = df.Age)"
   ]
  },
  {
   "cell_type": "markdown",
   "id": "3edbb398",
   "metadata": {},
   "source": [
    "### Right skewed data \n",
    "### Median is more towards Q1 \n",
    "### lower whisker smaller than upper whisker \n",
    "### Data points more towards Q1 "
   ]
  },
  {
   "cell_type": "code",
   "execution_count": 109,
   "id": "a8f3f6ee",
   "metadata": {},
   "outputs": [
    {
     "data": {
      "text/plain": [
       "'2. Columnwise Median :'"
      ]
     },
     "metadata": {},
     "output_type": "display_data"
    },
    {
     "data": {
      "text/plain": [
       "Pregnancies                   3.0000\n",
       "Glucose                     117.0000\n",
       "BloodPressure                72.0000\n",
       "SkinThickness                23.0000\n",
       "Insulin                      30.5000\n",
       "BMI                          32.0000\n",
       "DiabetesPedigreeFunction      0.3725\n",
       "Age                          29.0000\n",
       "Outcome                       0.0000\n",
       "dtype: float64"
      ]
     },
     "metadata": {},
     "output_type": "display_data"
    }
   ],
   "source": [
    "display('2. Columnwise Median :' , df.median())"
   ]
  },
  {
   "cell_type": "code",
   "execution_count": 110,
   "id": "54f817fe",
   "metadata": {},
   "outputs": [
    {
     "data": {
      "text/html": [
       "<div>\n",
       "<style scoped>\n",
       "    .dataframe tbody tr th:only-of-type {\n",
       "        vertical-align: middle;\n",
       "    }\n",
       "\n",
       "    .dataframe tbody tr th {\n",
       "        vertical-align: top;\n",
       "    }\n",
       "\n",
       "    .dataframe thead th {\n",
       "        text-align: right;\n",
       "    }\n",
       "</style>\n",
       "<table border=\"1\" class=\"dataframe\">\n",
       "  <thead>\n",
       "    <tr style=\"text-align: right;\">\n",
       "      <th></th>\n",
       "      <th>Pregnancies</th>\n",
       "      <th>Glucose</th>\n",
       "      <th>BloodPressure</th>\n",
       "      <th>SkinThickness</th>\n",
       "      <th>Insulin</th>\n",
       "      <th>BMI</th>\n",
       "      <th>DiabetesPedigreeFunction</th>\n",
       "      <th>Age</th>\n",
       "      <th>Outcome</th>\n",
       "    </tr>\n",
       "  </thead>\n",
       "  <tbody>\n",
       "    <tr>\n",
       "      <th>0</th>\n",
       "      <td>1.0</td>\n",
       "      <td>99</td>\n",
       "      <td>70.0</td>\n",
       "      <td>0.0</td>\n",
       "      <td>0.0</td>\n",
       "      <td>32.0</td>\n",
       "      <td>0.254</td>\n",
       "      <td>22.0</td>\n",
       "      <td>0.0</td>\n",
       "    </tr>\n",
       "    <tr>\n",
       "      <th>1</th>\n",
       "      <td>NaN</td>\n",
       "      <td>100</td>\n",
       "      <td>NaN</td>\n",
       "      <td>NaN</td>\n",
       "      <td>NaN</td>\n",
       "      <td>NaN</td>\n",
       "      <td>0.258</td>\n",
       "      <td>NaN</td>\n",
       "      <td>NaN</td>\n",
       "    </tr>\n",
       "  </tbody>\n",
       "</table>\n",
       "</div>"
      ],
      "text/plain": [
       "   Pregnancies  Glucose  BloodPressure  SkinThickness  Insulin   BMI  \\\n",
       "0          1.0       99           70.0            0.0      0.0  32.0   \n",
       "1          NaN      100            NaN            NaN      NaN   NaN   \n",
       "\n",
       "   DiabetesPedigreeFunction   Age  Outcome  \n",
       "0                     0.254  22.0      0.0  \n",
       "1                     0.258   NaN      NaN  "
      ]
     },
     "execution_count": 110,
     "metadata": {},
     "output_type": "execute_result"
    }
   ],
   "source": [
    "df.mode()"
   ]
  },
  {
   "cell_type": "code",
   "execution_count": 111,
   "id": "6f06f685",
   "metadata": {},
   "outputs": [
    {
     "data": {
      "text/plain": [
       "'3.a 1st Quartile : '"
      ]
     },
     "metadata": {},
     "output_type": "display_data"
    },
    {
     "data": {
      "text/plain": [
       "Pregnancies                  1.00000\n",
       "Glucose                     99.00000\n",
       "BloodPressure               62.00000\n",
       "SkinThickness                0.00000\n",
       "Insulin                      0.00000\n",
       "BMI                         27.30000\n",
       "DiabetesPedigreeFunction     0.24375\n",
       "Age                         24.00000\n",
       "Outcome                      0.00000\n",
       "Name: 0.25, dtype: float64"
      ]
     },
     "metadata": {},
     "output_type": "display_data"
    }
   ],
   "source": [
    "display('3.a 1st Quartile : ',df.quantile(q = 0.25) )"
   ]
  },
  {
   "cell_type": "code",
   "execution_count": 112,
   "id": "58e8b4ab",
   "metadata": {},
   "outputs": [
    {
     "data": {
      "text/plain": [
       "'3.b 3rd Quartile : '"
      ]
     },
     "metadata": {},
     "output_type": "display_data"
    },
    {
     "data": {
      "text/plain": [
       "Pregnancies                   6.00000\n",
       "Glucose                     140.25000\n",
       "BloodPressure                80.00000\n",
       "SkinThickness                32.00000\n",
       "Insulin                     127.25000\n",
       "BMI                          36.60000\n",
       "DiabetesPedigreeFunction      0.62625\n",
       "Age                          41.00000\n",
       "Outcome                       1.00000\n",
       "Name: 0.75, dtype: float64"
      ]
     },
     "metadata": {},
     "output_type": "display_data"
    }
   ],
   "source": [
    "display('3.b 3rd Quartile : ', df.quantile(q = 0.75))"
   ]
  },
  {
   "cell_type": "code",
   "execution_count": 113,
   "id": "12615f8e",
   "metadata": {},
   "outputs": [
    {
     "data": {
      "text/plain": [
       "'3.c Inter-Quartile Range (IQR) :'"
      ]
     },
     "metadata": {},
     "output_type": "display_data"
    },
    {
     "data": {
      "text/plain": [
       "Pregnancies                   5.0000\n",
       "Glucose                      41.2500\n",
       "BloodPressure                18.0000\n",
       "SkinThickness                32.0000\n",
       "Insulin                     127.2500\n",
       "BMI                           9.3000\n",
       "DiabetesPedigreeFunction      0.3825\n",
       "Age                          17.0000\n",
       "Outcome                       1.0000\n",
       "dtype: float64"
      ]
     },
     "metadata": {},
     "output_type": "display_data"
    }
   ],
   "source": [
    "display('3.c Inter-Quartile Range (IQR) :', df.quantile(q = 0.75) - df.quantile(q = 0.25))"
   ]
  },
  {
   "cell_type": "markdown",
   "id": "d7ccf49b",
   "metadata": {},
   "source": [
    "## Skewness"
   ]
  },
  {
   "cell_type": "code",
   "execution_count": 114,
   "id": "5e915029",
   "metadata": {},
   "outputs": [
    {
     "data": {
      "text/plain": [
       "'4. 5. Skewness : '"
      ]
     },
     "metadata": {},
     "output_type": "display_data"
    },
    {
     "data": {
      "text/plain": [
       "Pregnancies                 0.901674\n",
       "Glucose                     0.173754\n",
       "BloodPressure              -1.843608\n",
       "SkinThickness               0.109372\n",
       "Insulin                     2.272251\n",
       "BMI                        -0.428982\n",
       "DiabetesPedigreeFunction    1.919911\n",
       "Age                         1.129597\n",
       "Outcome                     0.635017\n",
       "dtype: float64"
      ]
     },
     "metadata": {},
     "output_type": "display_data"
    }
   ],
   "source": [
    "display('4. 5. Skewness : ', df.skew())"
   ]
  },
  {
   "cell_type": "code",
   "execution_count": 115,
   "id": "8a7418f8",
   "metadata": {},
   "outputs": [],
   "source": [
    "##  SkinThickness, Glucose is symmetrical\n",
    "## pregnancies, outcome, "
   ]
  },
  {
   "cell_type": "markdown",
   "id": "25f0edd5",
   "metadata": {},
   "source": [
    "# STUDYING FEATURE BY FEATURE AND REMOVING OUTLIERS OR APPLYING NORMALIZATION "
   ]
  },
  {
   "cell_type": "markdown",
   "id": "85385958",
   "metadata": {},
   "source": [
    "## 1. Pregnancies"
   ]
  },
  {
   "cell_type": "code",
   "execution_count": 116,
   "id": "fd7fd28e",
   "metadata": {},
   "outputs": [
    {
     "data": {
      "image/png": "[encoded data removed]",
      "text/plain": [
       "<Figure size 500x500 with 1 Axes>"
      ]
     },
     "metadata": {},
     "output_type": "display_data"
    }
   ],
   "source": [
    "sns.histplot(data = df.Pregnancies, kde = True );"
   ]
  },
  {
   "cell_type": "code",
   "execution_count": 117,
   "id": "922a117a",
   "metadata": {},
   "outputs": [
    {
     "data": {
      "text/plain": [
       "0.15921977754746486"
      ]
     },
     "execution_count": 117,
     "metadata": {},
     "output_type": "execute_result"
    }
   ],
   "source": [
    "df['Pregnancies'].kurt()"
   ]
  },
  {
   "cell_type": "markdown",
   "id": "03156cee",
   "metadata": {},
   "source": [
    "## Inference for pregnancies\n",
    "#### Pregnancies has outliers can be seen from boxplot.\n",
    "#### Pregnancies are right skewed.\n",
    "#### Kurtosis is less than 3 closer to zero, platykurtic, outliers frequency is low , but there are outliers"
   ]
  },
  {
   "cell_type": "markdown",
   "id": "a6d4d39f",
   "metadata": {},
   "source": [
    "## 2.Glucose "
   ]
  },
  {
   "cell_type": "code",
   "execution_count": 118,
   "id": "3fd9033c",
   "metadata": {},
   "outputs": [
    {
     "data": {
      "text/plain": [
       "<AxesSubplot:xlabel='Glucose', ylabel='Count'>"
      ]
     },
     "execution_count": 118,
     "metadata": {},
     "output_type": "execute_result"
    },
    {
     "data": {
      "image/png": "[encoded data removed]",
      "text/plain": [
       "<Figure size 500x500 with 1 Axes>"
      ]
     },
     "metadata": {},
     "output_type": "display_data"
    }
   ],
   "source": [
    "sns.histplot(data = df.Glucose, kde = True )"
   ]
  },
  {
   "cell_type": "code",
   "execution_count": 119,
   "id": "e7816a78",
   "metadata": {},
   "outputs": [
    {
     "data": {
      "text/plain": [
       "(120.89453125,\n",
       " 117.0,\n",
       " 0     99\n",
       " 1    100\n",
       " Name: Glucose, dtype: int64)"
      ]
     },
     "execution_count": 119,
     "metadata": {},
     "output_type": "execute_result"
    }
   ],
   "source": [
    "df.Glucose.mean(),df.Glucose.median(),df.Glucose.mode()"
   ]
  },
  {
   "cell_type": "code",
   "execution_count": 120,
   "id": "e1fa1302",
   "metadata": {},
   "outputs": [
    {
     "data": {
      "text/plain": [
       "0.6407798203735053"
      ]
     },
     "execution_count": 120,
     "metadata": {},
     "output_type": "execute_result"
    }
   ],
   "source": [
    "df['Glucose'].kurt()"
   ]
  },
  {
   "cell_type": "markdown",
   "id": "66507a58",
   "metadata": {},
   "source": [
    "### Inference \n",
    "Glucose is normally distributed,\n",
    "\n",
    "kurtosis less than 3 platykurtic (light tailed)\n",
    " \n",
    "boxplot says glucose has  outlier \n",
    "\n"
   ]
  },
  {
   "cell_type": "markdown",
   "id": "938467f9",
   "metadata": {},
   "source": [
    "## 3. Blood Pressure "
   ]
  },
  {
   "cell_type": "markdown",
   "id": "e37a1ad3",
   "metadata": {},
   "source": [
    "#### Blood Pressure has value less than -1 it is highly skewd since negative left skewd "
   ]
  },
  {
   "cell_type": "code",
   "execution_count": 121,
   "id": "34d799cf",
   "metadata": {},
   "outputs": [
    {
     "data": {
      "text/plain": [
       "<AxesSubplot:xlabel='BloodPressure', ylabel='Count'>"
      ]
     },
     "execution_count": 121,
     "metadata": {},
     "output_type": "execute_result"
    },
    {
     "data": {
      "image/png": "[encoded data removed]",
      "text/plain": [
       "<Figure size 500x500 with 1 Axes>"
      ]
     },
     "metadata": {},
     "output_type": "display_data"
    }
   ],
   "source": [
    "sns.histplot(data = df.BloodPressure, kde = True )"
   ]
  },
  {
   "cell_type": "code",
   "execution_count": 122,
   "id": "ff2a89af",
   "metadata": {},
   "outputs": [
    {
     "data": {
      "text/plain": [
       "5.180156560082496"
      ]
     },
     "execution_count": 122,
     "metadata": {},
     "output_type": "execute_result"
    }
   ],
   "source": [
    "df.BloodPressure.kurt()"
   ]
  },
  {
   "cell_type": "code",
   "execution_count": 123,
   "id": "6382d0d0",
   "metadata": {},
   "outputs": [
    {
     "data": {
      "text/plain": [
       "<AxesSubplot:>"
      ]
     },
     "execution_count": 123,
     "metadata": {},
     "output_type": "execute_result"
    },
    {
     "data": {
      "image/png": "[encoded data removed]",
      "text/plain": [
       "<Figure size 500x500 with 1 Axes>"
      ]
     },
     "metadata": {},
     "output_type": "display_data"
    }
   ],
   "source": [
    "sns.boxplot(data = df.BloodPressure)"
   ]
  },
  {
   "cell_type": "code",
   "execution_count": 124,
   "id": "de0081d1",
   "metadata": {},
   "outputs": [],
   "source": [
    "## Inference\n",
    "## kurtosis Greater than 3 leptokurtic(heavy tailed)\n",
    "## outlier frequency is high\n",
    "# outliers are on both sides"
   ]
  },
  {
   "cell_type": "code",
   "execution_count": 125,
   "id": "1f8f55be",
   "metadata": {},
   "outputs": [
    {
     "data": {
      "text/plain": [
       "<AxesSubplot:>"
      ]
     },
     "execution_count": 125,
     "metadata": {},
     "output_type": "execute_result"
    },
    {
     "data": {
      "image/png": "[encoded data removed]",
      "text/plain": [
       "<Figure size 500x500 with 1 Axes>"
      ]
     },
     "metadata": {},
     "output_type": "display_data"
    }
   ],
   "source": [
    "## take the log transformation\n",
    "sns.boxplot(data = np.log(df['BloodPressure']),orient = 'h')"
   ]
  },
  {
   "cell_type": "markdown",
   "id": "9b564773",
   "metadata": {},
   "source": [
    "## 4. Skin Thickness "
   ]
  },
  {
   "cell_type": "code",
   "execution_count": 126,
   "id": "87a10506",
   "metadata": {},
   "outputs": [],
   "source": [
    "## distribution plot of skin thickness  to understand skewness"
   ]
  },
  {
   "cell_type": "code",
   "execution_count": 127,
   "id": "92161736",
   "metadata": {},
   "outputs": [
    {
     "data": {
      "image/png": "[encoded data removed]",
      "text/plain": [
       "<Figure size 500x500 with 1 Axes>"
      ]
     },
     "metadata": {},
     "output_type": "display_data"
    }
   ],
   "source": [
    "sns.histplot(data = df.SkinThickness, kde = True );"
   ]
  },
  {
   "cell_type": "code",
   "execution_count": 128,
   "id": "91a2712f",
   "metadata": {},
   "outputs": [],
   "source": [
    "## above is looking skewd and bimodal , to understandt the distribution with skewness plot violin plot"
   ]
  },
  {
   "cell_type": "code",
   "execution_count": 129,
   "id": "fe55e05c",
   "metadata": {},
   "outputs": [
    {
     "data": {
      "image/png": "[encoded data removed]",
      "text/plain": [
       "<Figure size 500x500 with 1 Axes>"
      ]
     },
     "metadata": {},
     "output_type": "display_data"
    }
   ],
   "source": [
    "# violin plot \n",
    "sns.violinplot(data = df.SkinThickness,orient = 'h');"
   ]
  },
  {
   "cell_type": "code",
   "execution_count": 130,
   "id": "b8d9e2af",
   "metadata": {},
   "outputs": [],
   "source": [
    "# above plot shows the data is bimodal , outliers has causes distribution to be skewd and bimodal"
   ]
  },
  {
   "cell_type": "markdown",
   "id": "4225c174",
   "metadata": {},
   "source": [
    "## 5. BMI"
   ]
  },
  {
   "cell_type": "code",
   "execution_count": 131,
   "id": "047278de",
   "metadata": {},
   "outputs": [
    {
     "data": {
      "image/png": "[encoded data removed]",
      "text/plain": [
       "<Figure size 500x500 with 1 Axes>"
      ]
     },
     "metadata": {},
     "output_type": "display_data"
    }
   ],
   "source": [
    "sns.histplot(data = df.BMI, kde = True );"
   ]
  },
  {
   "cell_type": "markdown",
   "id": "aee0882b",
   "metadata": {},
   "source": [
    "## 6. DiabetesPedigreeFunction"
   ]
  },
  {
   "cell_type": "markdown",
   "id": "236eaf47",
   "metadata": {},
   "source": [
    "#### DiabetesPedigreeFunction is greater than 1 right skewd"
   ]
  },
  {
   "cell_type": "code",
   "execution_count": 132,
   "id": "fa0654b3",
   "metadata": {},
   "outputs": [
    {
     "data": {
      "image/png": "[encoded data removed]",
      "text/plain": [
       "<Figure size 500x500 with 1 Axes>"
      ]
     },
     "metadata": {},
     "output_type": "display_data"
    }
   ],
   "source": [
    "sns.histplot(data = df.DiabetesPedigreeFunction, kde = True );"
   ]
  },
  {
   "cell_type": "markdown",
   "id": "b727abd7",
   "metadata": {},
   "source": [
    "## 7. Age"
   ]
  },
  {
   "cell_type": "markdown",
   "id": "8ef5d177",
   "metadata": {},
   "source": [
    "#### Age is right skewd skewd value is 1.129 greater than 1"
   ]
  },
  {
   "cell_type": "code",
   "execution_count": 133,
   "id": "baa44c85",
   "metadata": {},
   "outputs": [
    {
     "data": {
      "image/png": "[encoded data removed]",
      "text/plain": [
       "<Figure size 500x500 with 1 Axes>"
      ]
     },
     "metadata": {},
     "output_type": "display_data"
    }
   ],
   "source": [
    "sns.histplot(data = df.Age, kde = True );"
   ]
  },
  {
   "cell_type": "markdown",
   "id": "6706e03c",
   "metadata": {},
   "source": [
    "## Insulin"
   ]
  },
  {
   "cell_type": "code",
   "execution_count": 134,
   "id": "6a4c5857",
   "metadata": {},
   "outputs": [
    {
     "data": {
      "image/png": "[encoded data removed]",
      "text/plain": [
       "<Figure size 500x500 with 1 Axes>"
      ]
     },
     "metadata": {},
     "output_type": "display_data"
    }
   ],
   "source": [
    "sns.histplot(data = df.Insulin, kde = True );"
   ]
  },
  {
   "cell_type": "markdown",
   "id": "1ff30e9f",
   "metadata": {},
   "source": [
    "## Kurtosis"
   ]
  },
  {
   "cell_type": "code",
   "execution_count": 135,
   "id": "2ebe53a9",
   "metadata": {},
   "outputs": [
    {
     "data": {
      "text/plain": [
       "'Kurtosis shows how steep / flat the histogram / bell curve is at the top.'"
      ]
     },
     "metadata": {},
     "output_type": "display_data"
    }
   ],
   "source": [
    "display('Kurtosis shows how steep / flat the histogram / bell curve is at the top.')"
   ]
  },
  {
   "cell_type": "code",
   "execution_count": 136,
   "id": "aa1f7f8e",
   "metadata": {},
   "outputs": [
    {
     "data": {
      "text/plain": [
       "'Kurtosis : '"
      ]
     },
     "metadata": {},
     "output_type": "display_data"
    },
    {
     "data": {
      "text/plain": [
       "Pregnancies                 0.159220\n",
       "Glucose                     0.640780\n",
       "BloodPressure               5.180157\n",
       "SkinThickness              -0.520072\n",
       "Insulin                     7.214260\n",
       "BMI                         3.290443\n",
       "DiabetesPedigreeFunction    5.594954\n",
       "Age                         0.643159\n",
       "Outcome                    -1.600930\n",
       "dtype: float64"
      ]
     },
     "metadata": {},
     "output_type": "display_data"
    }
   ],
   "source": [
    "display('Kurtosis : ', df.kurt())"
   ]
  },
  {
   "cell_type": "code",
   "execution_count": 137,
   "id": "921af41c",
   "metadata": {},
   "outputs": [],
   "source": [
    "#NORMAL DISTRIBUTION\n",
    "## BMI"
   ]
  },
  {
   "cell_type": "code",
   "execution_count": 138,
   "id": "acdd15e2",
   "metadata": {},
   "outputs": [],
   "source": [
    "## LEPTOKURTIC (HIGHER PEAK AND THICKER TAILS)\n",
    "## INSULIN\n",
    "## Diabetes PedigreeFunction\n",
    "## BloodPressure\n"
   ]
  },
  {
   "cell_type": "code",
   "execution_count": 139,
   "id": "cd1c4b6a",
   "metadata": {},
   "outputs": [],
   "source": [
    "## PLATYKURTIC(flatter peak thinner tails)\n",
    "## Pregnancies\n",
    "## Glucose\n",
    "## SkinThickness\n",
    "## Age"
   ]
  },
  {
   "cell_type": "code",
   "execution_count": null,
   "id": "350883cc",
   "metadata": {},
   "outputs": [],
   "source": []
  },
  {
   "cell_type": "code",
   "execution_count": null,
   "id": "bf72f417",
   "metadata": {},
   "outputs": [],
   "source": []
  },
  {
   "cell_type": "markdown",
   "id": "1eb17fa7",
   "metadata": {},
   "source": [
    "# 4. Measures of Dispersion"
   ]
  },
  {
   "cell_type": "markdown",
   "id": "e17a347e",
   "metadata": {},
   "source": [
    "## 4.1 Range"
   ]
  },
  {
   "cell_type": "code",
   "execution_count": 140,
   "id": "32f03154",
   "metadata": {},
   "outputs": [
    {
     "data": {
      "text/plain": [
       "Pregnancies                  17.000\n",
       "Glucose                     199.000\n",
       "BloodPressure               122.000\n",
       "SkinThickness                99.000\n",
       "Insulin                     846.000\n",
       "BMI                          67.100\n",
       "DiabetesPedigreeFunction      2.342\n",
       "Age                          60.000\n",
       "Outcome                       1.000\n",
       "dtype: float64"
      ]
     },
     "execution_count": 140,
     "metadata": {},
     "output_type": "execute_result"
    }
   ],
   "source": [
    "df.max()-df.min()"
   ]
  },
  {
   "cell_type": "markdown",
   "id": "4e83a35e",
   "metadata": {},
   "source": [
    "## In EDA (Exploratory Data Analysis), \"range\" refers to the difference between the maximum and minimum values in a dataset. The range is a simple measure of variability and gives an idea about how spread out the data is."
   ]
  },
  {
   "cell_type": "markdown",
   "id": "bd6f578c",
   "metadata": {},
   "source": [
    "## 4.2 Variance"
   ]
  },
  {
   "cell_type": "code",
   "execution_count": 141,
   "id": "d709fc8a",
   "metadata": {},
   "outputs": [
    {
     "data": {
      "text/plain": [
       "Pregnancies                    11.354056\n",
       "Glucose                      1022.248314\n",
       "BloodPressure                 374.647271\n",
       "SkinThickness                 254.473245\n",
       "Insulin                     13281.180078\n",
       "BMI                            62.159984\n",
       "DiabetesPedigreeFunction        0.109779\n",
       "Age                           138.303046\n",
       "Outcome                         0.227483\n",
       "dtype: float64"
      ]
     },
     "execution_count": 141,
     "metadata": {},
     "output_type": "execute_result"
    }
   ],
   "source": [
    "df.var()"
   ]
  },
  {
   "cell_type": "markdown",
   "id": "c575195a",
   "metadata": {},
   "source": [
    "## 4.3 standard deviation"
   ]
  },
  {
   "cell_type": "code",
   "execution_count": 142,
   "id": "e8236180",
   "metadata": {},
   "outputs": [
    {
     "data": {
      "text/plain": [
       "(Pregnancies                   3.369578\n",
       " Glucose                      31.972618\n",
       " BloodPressure                19.355807\n",
       " SkinThickness                15.952218\n",
       " Insulin                     115.244002\n",
       " BMI                           7.884160\n",
       " DiabetesPedigreeFunction      0.331329\n",
       " Age                          11.760232\n",
       " Outcome                       0.476951\n",
       " dtype: float64,\n",
       " Pregnancies                   3.845052\n",
       " Glucose                     120.894531\n",
       " BloodPressure                69.105469\n",
       " SkinThickness                20.536458\n",
       " Insulin                      79.799479\n",
       " BMI                          31.992578\n",
       " DiabetesPedigreeFunction      0.471876\n",
       " Age                          33.240885\n",
       " Outcome                       0.348958\n",
       " dtype: float64)"
      ]
     },
     "execution_count": 142,
     "metadata": {},
     "output_type": "execute_result"
    }
   ],
   "source": [
    "df.std(),df.mean()"
   ]
  },
  {
   "cell_type": "markdown",
   "id": "63c63926",
   "metadata": {},
   "source": [
    "## Removing outliers "
   ]
  },
  {
   "cell_type": "code",
   "execution_count": 143,
   "id": "30c455a0",
   "metadata": {},
   "outputs": [],
   "source": [
    "Q1 = df.quantile(q = 0.25)\n",
    "Q3 = df.quantile(q= 0.75)\n",
    "IQR = df.quantile(q = 0.75) - df.quantile(q = 0.25)\n",
    "lwr_limit = Q1 - 1.5*IQR\n",
    "uppr_limit = Q3 + 1.5*IQR"
   ]
  },
  {
   "cell_type": "code",
   "execution_count": 144,
   "id": "4271857c",
   "metadata": {},
   "outputs": [],
   "source": [
    "df = df[~((df < lwr_limit)| (df > uppr_limit)).any(axis = 1)]"
   ]
  },
  {
   "cell_type": "markdown",
   "id": "024795c5",
   "metadata": {},
   "source": [
    "# Correlation between all columns"
   ]
  },
  {
   "cell_type": "code",
   "execution_count": 145,
   "id": "15182603",
   "metadata": {},
   "outputs": [
    {
     "data": {
      "text/plain": [
       "<AxesSubplot:>"
      ]
     },
     "execution_count": 145,
     "metadata": {},
     "output_type": "execute_result"
    },
    {
     "data": {
      "image/png": "[encoded data removed]",
      "text/plain": [
       "<Figure size 1500x1000 with 2 Axes>"
      ]
     },
     "metadata": {},
     "output_type": "display_data"
    }
   ],
   "source": [
    "# set plot size\n",
    "plt.rcParams[\"figure.figsize\"] = [15,10]\n",
    "\n",
    "sns.heatmap(df.corr(),annot = True, linewidths =0.05, cmap = 'YlGnBu', fmt = '.4f')"
   ]
  },
  {
   "cell_type": "code",
   "execution_count": null,
   "id": "5131cada",
   "metadata": {},
   "outputs": [],
   "source": []
  },
  {
   "cell_type": "code",
   "execution_count": null,
   "id": "a5c6cee3",
   "metadata": {},
   "outputs": [],
   "source": []
  },
  {
   "cell_type": "code",
   "execution_count": null,
   "id": "0b0b0b4d",
   "metadata": {},
   "outputs": [],
   "source": []
  },
  {
   "cell_type": "code",
   "execution_count": 146,
   "id": "6a81bda4",
   "metadata": {},
   "outputs": [],
   "source": [
    "# Load libraries\n",
    "import pandas as pd\n",
    "import re\n",
    "from nltk.corpus import stopwords\n",
    "from nltk.stem import PorterStemmer\n",
    "from sklearn.model_selection import train_test_split\n",
    "from sklearn.pipeline import Pipeline\n",
    "from sklearn.feature_extraction.text import CountVectorizer, TfidfTransformer\n",
    "from sklearn.linear_model import LogisticRegression\n",
    "from sklearn.naive_bayes import MultinomialNB\n",
    "from sklearn.metrics import classification_report\n",
    "from sklearn.tree import DecisionTreeClassifier\n",
    "from sklearn.neighbors import KNeighborsClassifier\n",
    "from sklearn.metrics import confusion_matrix\n",
    "from sklearn.metrics import f1_score,roc_auc_score,accuracy_score\n",
    "from sklearn import metrics\n",
    "\n",
    "def model_fit(data,label_column):\n",
    "    X=data.iloc[:, data.columns != label_column]\n",
    "    y=data[label_column]\n",
    "    scaler = MinMaxScaler()\n",
    "    x_scaled = scaler.fit_transform(X)\n",
    "    x = pd.DataFrame(x_scaled,columns = X.columns)\n",
    "    F1=[]\n",
    "    classifier=[]\n",
    "    accuracy=[]\n",
    "    recall=[]\n",
    "    precision=[]\n",
    "    X_train, X_test, y_train, y_test = train_test_split(x,y,test_size=.2,stratify=y)\n",
    "    dt = DecisionTreeClassifier(max_depth=6,min_samples_leaf=4)\n",
    "    dt.fit(X_train,y_train)\n",
    "    y_test_pred = dt.predict(X_test)\n",
    "    \n",
    "    print(\"Decision Tree\")\n",
    "    print(classification_report(y_test_pred,y_test))\n",
    "    F1_score=f1_score(y_test_pred,y_test)\n",
    "    cm=metrics.confusion_matrix(y_test_pred,y_test)\n",
    "    print(cm)\n",
    "    classifier.append(\"Decision Tree\")\n",
    "    accuracy.append(accuracy_score(y_test_pred,y_test))\n",
    "    F1.append(f1_score(y_test_pred,y_test))\n",
    "    recall.append((cm[0,0])/ (cm[0,0]+cm[0,1]))\n",
    "    precision.append((cm[0,0])/ (cm[0,0]+cm[1,0]))\n",
    "    \n",
    "\n",
    "\n",
    "\n",
    "    print('-------------------------------------------------------------------------')\n",
    "    \n",
    "    print(\"Logistic Regression\")\n",
    "    logreg=LogisticRegression()\n",
    "    logreg.fit(X_train,y_train)\n",
    "    y_test_pred=logreg.predict(X_test)\n",
    "\n",
    "    \n",
    "    print(classification_report(y_test_pred,y_test))\n",
    "    print(confusion_matrix(y_test_pred,y_test))\n",
    "    F1_score=f1_score(y_test_pred,y_test)\n",
    "    cm=confusion_matrix(y_test_pred,y_test)\n",
    "    print(cm)\n",
    "    classifier.append(\"Logistic Regression\")\n",
    "    accuracy.append(accuracy_score(y_test_pred,y_test))\n",
    "    F1.append(f1_score(y_test_pred,y_test))\n",
    "    recall.append((cm[0,0])/ (cm[0,0]+cm[0,1]))\n",
    "    precision.append((cm[0,0])/ (cm[0,0]+cm[1,0]))\n",
    "\n",
    "    \n",
    "    print('-------------------------------------------------------------------------')\n",
    "    \n",
    "    print(\"KNeighbors Classifier\")\n",
    "    knc=KNeighborsClassifier()\n",
    "    knc.fit(X_train,y_train)\n",
    "    y_test_pred=knc.predict(X_test)\n",
    "    \n",
    "    print(classification_report(y_test_pred,y_test))\n",
    "    print(confusion_matrix(y_test_pred,y_test))\n",
    "    F1_score=f1_score(y_test_pred,y_test)\n",
    "    cm=confusion_matrix(y_test_pred,y_test)\n",
    "    print(cm)\n",
    "    classifier.append(\"KNeighbors Classifier\")\n",
    "    accuracy.append(accuracy_score(y_test_pred,y_test))\n",
    "    F1.append(f1_score(y_test_pred,y_test))\n",
    "    recall.append((cm[0,0])/ (cm[0,0]+cm[0,1]))\n",
    "    precision.append((cm[0,0])/ (cm[0,0]+cm[1,0]))\n",
    "    \n",
    "    print('-------------------------------------------------------------------------')\n",
    "    \n",
    "    \n",
    "    results = {\n",
    "        \"Classifier\": classifier,\n",
    "        \"F1\": F1,\n",
    "        \"Accuracy\": accuracy,\n",
    "        \"Recall\": recall,\n",
    "        \"Precision\": precision\n",
    "    }\n",
    "    return pd.DataFrame(results)"
   ]
  },
  {
   "cell_type": "code",
   "execution_count": 147,
   "id": "52869d94",
   "metadata": {},
   "outputs": [
    {
     "name": "stdout",
     "output_type": "stream",
     "text": [
      "Decision Tree\n",
      "              precision    recall  f1-score   support\n",
      "\n",
      "           0       0.73      0.86      0.79        74\n",
      "           1       0.75      0.56      0.64        54\n",
      "\n",
      "    accuracy                           0.73       128\n",
      "   macro avg       0.74      0.71      0.71       128\n",
      "weighted avg       0.74      0.73      0.73       128\n",
      "\n",
      "[[64 10]\n",
      " [24 30]]\n",
      "-------------------------------------------------------------------------\n",
      "Logistic Regression\n",
      "              precision    recall  f1-score   support\n",
      "\n",
      "           0       0.93      0.89      0.91        92\n",
      "           1       0.75      0.83      0.79        36\n",
      "\n",
      "    accuracy                           0.88       128\n",
      "   macro avg       0.84      0.86      0.85       128\n",
      "weighted avg       0.88      0.88      0.88       128\n",
      "\n",
      "[[82 10]\n",
      " [ 6 30]]\n",
      "[[82 10]\n",
      " [ 6 30]]\n",
      "-------------------------------------------------------------------------\n",
      "KNeighbors Classifier\n",
      "              precision    recall  f1-score   support\n",
      "\n",
      "           0       0.83      0.81      0.82        90\n",
      "           1       0.57      0.61      0.59        38\n",
      "\n",
      "    accuracy                           0.75       128\n",
      "   macro avg       0.70      0.71      0.70       128\n",
      "weighted avg       0.75      0.75      0.75       128\n",
      "\n",
      "[[73 17]\n",
      " [15 23]]\n",
      "[[73 17]\n",
      " [15 23]]\n",
      "-------------------------------------------------------------------------\n"
     ]
    },
    {
     "data": {
      "text/html": [
       "<div>\n",
       "<style scoped>\n",
       "    .dataframe tbody tr th:only-of-type {\n",
       "        vertical-align: middle;\n",
       "    }\n",
       "\n",
       "    .dataframe tbody tr th {\n",
       "        vertical-align: top;\n",
       "    }\n",
       "\n",
       "    .dataframe thead th {\n",
       "        text-align: right;\n",
       "    }\n",
       "</style>\n",
       "<table border=\"1\" class=\"dataframe\">\n",
       "  <thead>\n",
       "    <tr style=\"text-align: right;\">\n",
       "      <th></th>\n",
       "      <th>Classifier</th>\n",
       "      <th>F1</th>\n",
       "      <th>Accuracy</th>\n",
       "      <th>Recall</th>\n",
       "      <th>Precision</th>\n",
       "    </tr>\n",
       "  </thead>\n",
       "  <tbody>\n",
       "    <tr>\n",
       "      <th>0</th>\n",
       "      <td>Decision Tree</td>\n",
       "      <td>0.638298</td>\n",
       "      <td>0.734375</td>\n",
       "      <td>0.864865</td>\n",
       "      <td>0.727273</td>\n",
       "    </tr>\n",
       "    <tr>\n",
       "      <th>1</th>\n",
       "      <td>Logistic Regression</td>\n",
       "      <td>0.789474</td>\n",
       "      <td>0.875000</td>\n",
       "      <td>0.891304</td>\n",
       "      <td>0.931818</td>\n",
       "    </tr>\n",
       "    <tr>\n",
       "      <th>2</th>\n",
       "      <td>KNeighbors Classifier</td>\n",
       "      <td>0.589744</td>\n",
       "      <td>0.750000</td>\n",
       "      <td>0.811111</td>\n",
       "      <td>0.829545</td>\n",
       "    </tr>\n",
       "  </tbody>\n",
       "</table>\n",
       "</div>"
      ],
      "text/plain": [
       "              Classifier        F1  Accuracy    Recall  Precision\n",
       "0          Decision Tree  0.638298  0.734375  0.864865   0.727273\n",
       "1    Logistic Regression  0.789474  0.875000  0.891304   0.931818\n",
       "2  KNeighbors Classifier  0.589744  0.750000  0.811111   0.829545"
      ]
     },
     "execution_count": 147,
     "metadata": {},
     "output_type": "execute_result"
    }
   ],
   "source": [
    "model_fit(df, 'Outcome')"
   ]
  },
  {
   "cell_type": "markdown",
   "id": "5d62b385",
   "metadata": {},
   "source": [
    "# Result 1\n",
    "# The above model is with result of removing outliers, using quantile . Multicolinearity wasnt removed "
   ]
  },
  {
   "cell_type": "code",
   "execution_count": null,
   "id": "8addfa7b",
   "metadata": {},
   "outputs": [],
   "source": []
  },
  {
   "cell_type": "markdown",
   "id": "7a99ebb9",
   "metadata": {},
   "source": [
    "# Second Approach"
   ]
  },
  {
   "cell_type": "markdown",
   "id": "90a484ab",
   "metadata": {},
   "source": [
    "## Apply PCA remove multiclolinearity "
   ]
  },
  {
   "cell_type": "code",
   "execution_count": 148,
   "id": "3ef1e649",
   "metadata": {},
   "outputs": [],
   "source": [
    "df_features = df.drop(columns = 'Outcome')"
   ]
  },
  {
   "cell_type": "code",
   "execution_count": 149,
   "id": "c918660e",
   "metadata": {},
   "outputs": [
    {
     "data": {
      "text/html": [
       "<div>\n",
       "<style scoped>\n",
       "    .dataframe tbody tr th:only-of-type {\n",
       "        vertical-align: middle;\n",
       "    }\n",
       "\n",
       "    .dataframe tbody tr th {\n",
       "        vertical-align: top;\n",
       "    }\n",
       "\n",
       "    .dataframe thead th {\n",
       "        text-align: right;\n",
       "    }\n",
       "</style>\n",
       "<table border=\"1\" class=\"dataframe\">\n",
       "  <thead>\n",
       "    <tr style=\"text-align: right;\">\n",
       "      <th></th>\n",
       "      <th>Pregnancies</th>\n",
       "      <th>Glucose</th>\n",
       "      <th>BloodPressure</th>\n",
       "      <th>SkinThickness</th>\n",
       "      <th>Insulin</th>\n",
       "      <th>BMI</th>\n",
       "      <th>DiabetesPedigreeFunction</th>\n",
       "      <th>Age</th>\n",
       "    </tr>\n",
       "  </thead>\n",
       "  <tbody>\n",
       "    <tr>\n",
       "      <th>0</th>\n",
       "      <td>6</td>\n",
       "      <td>148</td>\n",
       "      <td>72</td>\n",
       "      <td>35</td>\n",
       "      <td>0</td>\n",
       "      <td>33.6</td>\n",
       "      <td>0.627</td>\n",
       "      <td>50</td>\n",
       "    </tr>\n",
       "    <tr>\n",
       "      <th>1</th>\n",
       "      <td>1</td>\n",
       "      <td>85</td>\n",
       "      <td>66</td>\n",
       "      <td>29</td>\n",
       "      <td>0</td>\n",
       "      <td>26.6</td>\n",
       "      <td>0.351</td>\n",
       "      <td>31</td>\n",
       "    </tr>\n",
       "    <tr>\n",
       "      <th>2</th>\n",
       "      <td>8</td>\n",
       "      <td>183</td>\n",
       "      <td>64</td>\n",
       "      <td>0</td>\n",
       "      <td>0</td>\n",
       "      <td>23.3</td>\n",
       "      <td>0.672</td>\n",
       "      <td>32</td>\n",
       "    </tr>\n",
       "    <tr>\n",
       "      <th>3</th>\n",
       "      <td>1</td>\n",
       "      <td>89</td>\n",
       "      <td>66</td>\n",
       "      <td>23</td>\n",
       "      <td>94</td>\n",
       "      <td>28.1</td>\n",
       "      <td>0.167</td>\n",
       "      <td>21</td>\n",
       "    </tr>\n",
       "    <tr>\n",
       "      <th>5</th>\n",
       "      <td>5</td>\n",
       "      <td>116</td>\n",
       "      <td>74</td>\n",
       "      <td>0</td>\n",
       "      <td>0</td>\n",
       "      <td>25.6</td>\n",
       "      <td>0.201</td>\n",
       "      <td>30</td>\n",
       "    </tr>\n",
       "    <tr>\n",
       "      <th>...</th>\n",
       "      <td>...</td>\n",
       "      <td>...</td>\n",
       "      <td>...</td>\n",
       "      <td>...</td>\n",
       "      <td>...</td>\n",
       "      <td>...</td>\n",
       "      <td>...</td>\n",
       "      <td>...</td>\n",
       "    </tr>\n",
       "    <tr>\n",
       "      <th>763</th>\n",
       "      <td>10</td>\n",
       "      <td>101</td>\n",
       "      <td>76</td>\n",
       "      <td>48</td>\n",
       "      <td>180</td>\n",
       "      <td>32.9</td>\n",
       "      <td>0.171</td>\n",
       "      <td>63</td>\n",
       "    </tr>\n",
       "    <tr>\n",
       "      <th>764</th>\n",
       "      <td>2</td>\n",
       "      <td>122</td>\n",
       "      <td>70</td>\n",
       "      <td>27</td>\n",
       "      <td>0</td>\n",
       "      <td>36.8</td>\n",
       "      <td>0.340</td>\n",
       "      <td>27</td>\n",
       "    </tr>\n",
       "    <tr>\n",
       "      <th>765</th>\n",
       "      <td>5</td>\n",
       "      <td>121</td>\n",
       "      <td>72</td>\n",
       "      <td>23</td>\n",
       "      <td>112</td>\n",
       "      <td>26.2</td>\n",
       "      <td>0.245</td>\n",
       "      <td>30</td>\n",
       "    </tr>\n",
       "    <tr>\n",
       "      <th>766</th>\n",
       "      <td>1</td>\n",
       "      <td>126</td>\n",
       "      <td>60</td>\n",
       "      <td>0</td>\n",
       "      <td>0</td>\n",
       "      <td>30.1</td>\n",
       "      <td>0.349</td>\n",
       "      <td>47</td>\n",
       "    </tr>\n",
       "    <tr>\n",
       "      <th>767</th>\n",
       "      <td>1</td>\n",
       "      <td>93</td>\n",
       "      <td>70</td>\n",
       "      <td>31</td>\n",
       "      <td>0</td>\n",
       "      <td>30.4</td>\n",
       "      <td>0.315</td>\n",
       "      <td>23</td>\n",
       "    </tr>\n",
       "  </tbody>\n",
       "</table>\n",
       "<p>639 rows × 8 columns</p>\n",
       "</div>"
      ],
      "text/plain": [
       "     Pregnancies  Glucose  BloodPressure  SkinThickness  Insulin   BMI  \\\n",
       "0              6      148             72             35        0  33.6   \n",
       "1              1       85             66             29        0  26.6   \n",
       "2              8      183             64              0        0  23.3   \n",
       "3              1       89             66             23       94  28.1   \n",
       "5              5      116             74              0        0  25.6   \n",
       "..           ...      ...            ...            ...      ...   ...   \n",
       "763           10      101             76             48      180  32.9   \n",
       "764            2      122             70             27        0  36.8   \n",
       "765            5      121             72             23      112  26.2   \n",
       "766            1      126             60              0        0  30.1   \n",
       "767            1       93             70             31        0  30.4   \n",
       "\n",
       "     DiabetesPedigreeFunction  Age  \n",
       "0                       0.627   50  \n",
       "1                       0.351   31  \n",
       "2                       0.672   32  \n",
       "3                       0.167   21  \n",
       "5                       0.201   30  \n",
       "..                        ...  ...  \n",
       "763                     0.171   63  \n",
       "764                     0.340   27  \n",
       "765                     0.245   30  \n",
       "766                     0.349   47  \n",
       "767                     0.315   23  \n",
       "\n",
       "[639 rows x 8 columns]"
      ]
     },
     "execution_count": 149,
     "metadata": {},
     "output_type": "execute_result"
    }
   ],
   "source": [
    "df_features"
   ]
  },
  {
   "cell_type": "code",
   "execution_count": 150,
   "id": "c95522b8",
   "metadata": {},
   "outputs": [
    {
     "data": {
      "text/plain": [
       "(639,)"
      ]
     },
     "execution_count": 150,
     "metadata": {},
     "output_type": "execute_result"
    }
   ],
   "source": [
    "df['Outcome'].shape"
   ]
  },
  {
   "cell_type": "code",
   "execution_count": 151,
   "id": "f573b273",
   "metadata": {},
   "outputs": [],
   "source": [
    "# Mean centering\n",
    "dfc = df_features - df_features.mean()"
   ]
  },
  {
   "cell_type": "code",
   "execution_count": 152,
   "id": "e334de88",
   "metadata": {},
   "outputs": [
    {
     "data": {
      "text/html": [
       "<div>\n",
       "<style scoped>\n",
       "    .dataframe tbody tr th:only-of-type {\n",
       "        vertical-align: middle;\n",
       "    }\n",
       "\n",
       "    .dataframe tbody tr th {\n",
       "        vertical-align: top;\n",
       "    }\n",
       "\n",
       "    .dataframe thead th {\n",
       "        text-align: right;\n",
       "    }\n",
       "</style>\n",
       "<table border=\"1\" class=\"dataframe\">\n",
       "  <thead>\n",
       "    <tr style=\"text-align: right;\">\n",
       "      <th></th>\n",
       "      <th>Pregnancies</th>\n",
       "      <th>Glucose</th>\n",
       "      <th>BloodPressure</th>\n",
       "      <th>SkinThickness</th>\n",
       "      <th>Insulin</th>\n",
       "      <th>BMI</th>\n",
       "      <th>DiabetesPedigreeFunction</th>\n",
       "      <th>Age</th>\n",
       "    </tr>\n",
       "  </thead>\n",
       "  <tbody>\n",
       "    <tr>\n",
       "      <th>0</th>\n",
       "      <td>2.195618</td>\n",
       "      <td>28.887324</td>\n",
       "      <td>-0.120501</td>\n",
       "      <td>14.43662</td>\n",
       "      <td>-65.931142</td>\n",
       "      <td>1.59421</td>\n",
       "      <td>0.197823</td>\n",
       "      <td>17.28482</td>\n",
       "    </tr>\n",
       "    <tr>\n",
       "      <th>1</th>\n",
       "      <td>-2.804382</td>\n",
       "      <td>-34.112676</td>\n",
       "      <td>-6.120501</td>\n",
       "      <td>8.43662</td>\n",
       "      <td>-65.931142</td>\n",
       "      <td>-5.40579</td>\n",
       "      <td>-0.078177</td>\n",
       "      <td>-1.71518</td>\n",
       "    </tr>\n",
       "    <tr>\n",
       "      <th>2</th>\n",
       "      <td>4.195618</td>\n",
       "      <td>63.887324</td>\n",
       "      <td>-8.120501</td>\n",
       "      <td>-20.56338</td>\n",
       "      <td>-65.931142</td>\n",
       "      <td>-8.70579</td>\n",
       "      <td>0.242823</td>\n",
       "      <td>-0.71518</td>\n",
       "    </tr>\n",
       "    <tr>\n",
       "      <th>3</th>\n",
       "      <td>-2.804382</td>\n",
       "      <td>-30.112676</td>\n",
       "      <td>-6.120501</td>\n",
       "      <td>2.43662</td>\n",
       "      <td>28.068858</td>\n",
       "      <td>-3.90579</td>\n",
       "      <td>-0.262177</td>\n",
       "      <td>-11.71518</td>\n",
       "    </tr>\n",
       "    <tr>\n",
       "      <th>5</th>\n",
       "      <td>1.195618</td>\n",
       "      <td>-3.112676</td>\n",
       "      <td>1.879499</td>\n",
       "      <td>-20.56338</td>\n",
       "      <td>-65.931142</td>\n",
       "      <td>-6.40579</td>\n",
       "      <td>-0.228177</td>\n",
       "      <td>-2.71518</td>\n",
       "    </tr>\n",
       "  </tbody>\n",
       "</table>\n",
       "</div>"
      ],
      "text/plain": [
       "   Pregnancies    Glucose  BloodPressure  SkinThickness    Insulin      BMI  \\\n",
       "0     2.195618  28.887324      -0.120501       14.43662 -65.931142  1.59421   \n",
       "1    -2.804382 -34.112676      -6.120501        8.43662 -65.931142 -5.40579   \n",
       "2     4.195618  63.887324      -8.120501      -20.56338 -65.931142 -8.70579   \n",
       "3    -2.804382 -30.112676      -6.120501        2.43662  28.068858 -3.90579   \n",
       "5     1.195618  -3.112676       1.879499      -20.56338 -65.931142 -6.40579   \n",
       "\n",
       "   DiabetesPedigreeFunction       Age  \n",
       "0                  0.197823  17.28482  \n",
       "1                 -0.078177  -1.71518  \n",
       "2                  0.242823  -0.71518  \n",
       "3                 -0.262177 -11.71518  \n",
       "5                 -0.228177  -2.71518  "
      ]
     },
     "execution_count": 152,
     "metadata": {},
     "output_type": "execute_result"
    }
   ],
   "source": [
    "dfc.head()"
   ]
  },
  {
   "cell_type": "code",
   "execution_count": 153,
   "id": "20256a98",
   "metadata": {},
   "outputs": [
    {
     "data": {
      "text/plain": [
       "PCA()"
      ]
     },
     "execution_count": 153,
     "metadata": {},
     "output_type": "execute_result"
    }
   ],
   "source": [
    "pca = PCA()\n",
    "pca.fit(dfc)"
   ]
  },
  {
   "cell_type": "code",
   "execution_count": 154,
   "id": "e42268ed",
   "metadata": {},
   "outputs": [
    {
     "data": {
      "text/plain": [
       "array([[-4.46394786e-03,  1.01643741e-01, -4.53161765e-03,\n",
       "         9.49139057e-02,  9.90068121e-01,  1.60380196e-02,\n",
       "         6.69906557e-04, -1.12643833e-02],\n",
       "       [ 2.49456990e-02,  9.71029391e-01,  1.25198581e-01,\n",
       "        -9.58344478e-02, -8.86488215e-02,  3.35868832e-02,\n",
       "         8.48289411e-05,  1.50446033e-01],\n",
       "       [ 1.37886698e-02,  2.36969720e-02,  3.24082905e-01,\n",
       "         9.09488778e-01, -9.13846903e-02,  2.37564548e-01,\n",
       "         1.20369874e-03,  4.75314009e-02],\n",
       "       [ 1.14095160e-01, -2.12492605e-01,  6.58589696e-01,\n",
       "        -2.72103895e-01,  5.80766382e-02,  4.92564037e-02,\n",
       "         6.98448593e-04,  6.54407131e-01],\n",
       "       [ 1.29724610e-01, -8.16157579e-03, -6.40270750e-01,\n",
       "         2.15473813e-01, -1.22727256e-02, -1.06521888e-01,\n",
       "         7.43933675e-04,  7.17796093e-01],\n",
       "       [ 8.77279943e-03, -3.14154258e-02, -1.88637051e-01,\n",
       "        -1.84774744e-01,  4.82665587e-03,  9.63519222e-01,\n",
       "         3.93106813e-03,  2.83271020e-02],\n",
       "       [-9.84502038e-01, -1.50610327e-03, -1.99081863e-03,\n",
       "         5.09091584e-03, -2.85856197e-03,  4.36581747e-03,\n",
       "        -2.81224350e-04,  1.75203531e-01],\n",
       "       [-5.03276271e-04,  9.85731503e-05,  3.59633596e-04,\n",
       "        -3.92661880e-04, -5.96950283e-04, -4.04117638e-03,\n",
       "         9.99990761e-01, -1.11558658e-03]])"
      ]
     },
     "execution_count": 154,
     "metadata": {},
     "output_type": "execute_result"
    }
   ],
   "source": [
    "# Eigen vectors\n",
    "pca.components_"
   ]
  },
  {
   "cell_type": "code",
   "execution_count": 155,
   "id": "a5971301",
   "metadata": {},
   "outputs": [
    {
     "data": {
      "text/plain": [
       "array([6.45025786e+03, 8.24189153e+02, 1.86502308e+02, 1.44547923e+02,\n",
       "       7.90847893e+01, 2.91191004e+01, 6.95636028e+00, 5.92448659e-02])"
      ]
     },
     "execution_count": 155,
     "metadata": {},
     "output_type": "execute_result"
    }
   ],
   "source": [
    "#Corresponding Eigen Values\n",
    "pca.explained_variance_"
   ]
  },
  {
   "cell_type": "code",
   "execution_count": 156,
   "id": "403fd388",
   "metadata": {},
   "outputs": [
    {
     "data": {
      "text/plain": [
       "array([[-6.11481281e+01,  3.52053118e+01,  2.10313427e+01, ...,\n",
       "        -1.82480639e+00,  1.09237183e+00,  2.07484217e-01],\n",
       "       [-6.79700855e+01, -2.93640593e+01,  9.50167935e+00, ...,\n",
       "        -4.93296226e+00,  2.73181574e+00, -2.25244104e-02],\n",
       "       [-6.08476613e+01,  6.85398792e+01, -1.58388823e+01, ...,\n",
       "        -5.36454717e+00, -4.29024550e+00,  3.27498081e-01],\n",
       "       ...,\n",
       "       [ 4.59669680e+01, -3.07357810e+00, -3.48028034e+00, ...,\n",
       "        -5.92556626e+00, -1.79998152e+00, -1.86600504e-01],\n",
       "       [-6.66521041e+01,  1.50008436e+01, -1.62544409e+01, ...,\n",
       "         4.09483821e+00,  5.35291129e+00, -4.32470024e-02],\n",
       "       [-6.68341988e+01, -2.23626399e+01,  1.33290150e+01, ...,\n",
       "        -2.87376865e+00,  1.33695745e+00, -6.35140595e-02]])"
      ]
     },
     "execution_count": 156,
     "metadata": {},
     "output_type": "execute_result"
    }
   ],
   "source": [
    "# projecting all the data points\n",
    "pca.transform(dfc)"
   ]
  },
  {
   "cell_type": "code",
   "execution_count": 157,
   "id": "a9a4b1fd",
   "metadata": {},
   "outputs": [
    {
     "data": {
      "image/png": "[encoded data removed]",
      "text/plain": [
       "<Figure size 1500x1000 with 1 Axes>"
      ]
     },
     "metadata": {},
     "output_type": "display_data"
    }
   ],
   "source": [
    "plt.xlabel('no. of features')\n",
    "plt.ylabel('Eigen Values')\n",
    "plt.title('PCA EigenValues')\n",
    "plt.axhline(y = 841 , color = 'r', linestyle = '--')\n",
    "plt.plot(pca.explained_variance_)\n",
    "plt.show()"
   ]
  },
  {
   "cell_type": "code",
   "execution_count": 158,
   "id": "66b68fe1",
   "metadata": {},
   "outputs": [
    {
     "data": {
      "text/plain": [
       "array([8.35448065e-01, 1.06750342e-01, 2.41560874e-02, 1.87220860e-02,\n",
       "       1.02431927e-02, 3.77155404e-03, 9.00999286e-04, 7.67349300e-06])"
      ]
     },
     "execution_count": 158,
     "metadata": {},
     "output_type": "execute_result"
    }
   ],
   "source": [
    "#percentage of variance explained by each principal component.\n",
    "pca.explained_variance_ratio_"
   ]
  },
  {
   "cell_type": "code",
   "execution_count": 159,
   "id": "033b3d9c",
   "metadata": {},
   "outputs": [
    {
     "data": {
      "image/png": "[encoded data removed]",
      "text/plain": [
       "<Figure size 1500x1000 with 1 Axes>"
      ]
     },
     "metadata": {},
     "output_type": "display_data"
    }
   ],
   "source": [
    "# calculating cumulative sum of variance explained i.e cumulative variance explained\n",
    "var = np.cumsum(np.round(pca.explained_variance_ratio_,3)*100)\n",
    "plt.xlabel('No. of features')\n",
    "plt.ylabel('% Variance Explained')\n",
    "plt.title('PCA Variance Explained')\n",
    "plt.axhline(y=96.5,color = 'r', linestyle = '--')\n",
    "plt.axvline(x = 2 , color = 'r',linestyle = '--')\n",
    "plt.plot(var)\n",
    "plt.show()"
   ]
  },
  {
   "cell_type": "code",
   "execution_count": 160,
   "id": "89208ba4",
   "metadata": {},
   "outputs": [],
   "source": [
    "# variance explained by first two features is 96.5 %\n",
    "# using first two features to trnasform the data "
   ]
  },
  {
   "cell_type": "code",
   "execution_count": 161,
   "id": "80f1cca9",
   "metadata": {},
   "outputs": [
    {
     "data": {
      "text/plain": [
       "array([[-61.14812807,  35.20531179],\n",
       "       [-67.97008551, -29.36405934],\n",
       "       [-60.84766133,  68.53987922],\n",
       "       ...,\n",
       "       [ 45.966968  ,  -3.0735781 ],\n",
       "       [-66.65210407,  15.00084363],\n",
       "       [-66.83419881, -22.36263995]])"
      ]
     },
     "execution_count": 161,
     "metadata": {},
     "output_type": "execute_result"
    }
   ],
   "source": [
    "pca2 = PCA(n_components = 2)\n",
    "projection = pca2.fit_transform(dfc)\n",
    "projection"
   ]
  },
  {
   "cell_type": "code",
   "execution_count": 162,
   "id": "27c2ec39",
   "metadata": {},
   "outputs": [],
   "source": [
    "df_proj = pd.DataFrame(projection)"
   ]
  },
  {
   "cell_type": "code",
   "execution_count": 163,
   "id": "b28f0ab1",
   "metadata": {},
   "outputs": [
    {
     "data": {
      "text/html": [
       "<div>\n",
       "<style scoped>\n",
       "    .dataframe tbody tr th:only-of-type {\n",
       "        vertical-align: middle;\n",
       "    }\n",
       "\n",
       "    .dataframe tbody tr th {\n",
       "        vertical-align: top;\n",
       "    }\n",
       "\n",
       "    .dataframe thead th {\n",
       "        text-align: right;\n",
       "    }\n",
       "</style>\n",
       "<table border=\"1\" class=\"dataframe\">\n",
       "  <thead>\n",
       "    <tr style=\"text-align: right;\">\n",
       "      <th></th>\n",
       "      <th>0</th>\n",
       "      <th>1</th>\n",
       "    </tr>\n",
       "  </thead>\n",
       "  <tbody>\n",
       "    <tr>\n",
       "      <th>0</th>\n",
       "      <td>-61.148128</td>\n",
       "      <td>35.205312</td>\n",
       "    </tr>\n",
       "    <tr>\n",
       "      <th>1</th>\n",
       "      <td>-67.970086</td>\n",
       "      <td>-29.364059</td>\n",
       "    </tr>\n",
       "    <tr>\n",
       "      <th>2</th>\n",
       "      <td>-60.847661</td>\n",
       "      <td>68.539879</td>\n",
       "    </tr>\n",
       "    <tr>\n",
       "      <th>3</th>\n",
       "      <td>25.069987</td>\n",
       "      <td>-34.692020</td>\n",
       "    </tr>\n",
       "    <tr>\n",
       "      <th>4</th>\n",
       "      <td>-67.630616</td>\n",
       "      <td>4.434377</td>\n",
       "    </tr>\n",
       "    <tr>\n",
       "      <th>...</th>\n",
       "      <td>...</td>\n",
       "      <td>...</td>\n",
       "    </tr>\n",
       "    <tr>\n",
       "      <th>634</th>\n",
       "      <td>113.326807</td>\n",
       "      <td>-25.102879</td>\n",
       "    </tr>\n",
       "    <tr>\n",
       "      <th>635</th>\n",
       "      <td>-64.213047</td>\n",
       "      <td>7.022238</td>\n",
       "    </tr>\n",
       "    <tr>\n",
       "      <th>636</th>\n",
       "      <td>45.966968</td>\n",
       "      <td>-3.073578</td>\n",
       "    </tr>\n",
       "    <tr>\n",
       "      <th>637</th>\n",
       "      <td>-66.652104</td>\n",
       "      <td>15.000844</td>\n",
       "    </tr>\n",
       "    <tr>\n",
       "      <th>638</th>\n",
       "      <td>-66.834199</td>\n",
       "      <td>-22.362640</td>\n",
       "    </tr>\n",
       "  </tbody>\n",
       "</table>\n",
       "<p>639 rows × 2 columns</p>\n",
       "</div>"
      ],
      "text/plain": [
       "              0          1\n",
       "0    -61.148128  35.205312\n",
       "1    -67.970086 -29.364059\n",
       "2    -60.847661  68.539879\n",
       "3     25.069987 -34.692020\n",
       "4    -67.630616   4.434377\n",
       "..          ...        ...\n",
       "634  113.326807 -25.102879\n",
       "635  -64.213047   7.022238\n",
       "636   45.966968  -3.073578\n",
       "637  -66.652104  15.000844\n",
       "638  -66.834199 -22.362640\n",
       "\n",
       "[639 rows x 2 columns]"
      ]
     },
     "execution_count": 163,
     "metadata": {},
     "output_type": "execute_result"
    }
   ],
   "source": [
    "df_proj"
   ]
  },
  {
   "cell_type": "code",
   "execution_count": 164,
   "id": "58f4a111",
   "metadata": {},
   "outputs": [],
   "source": [
    "df_proj.rename(columns = {0: 'pca1', 1 : 'pca2'}, inplace = True)"
   ]
  },
  {
   "cell_type": "code",
   "execution_count": 165,
   "id": "3cc0dced",
   "metadata": {},
   "outputs": [
    {
     "data": {
      "text/html": [
       "<div>\n",
       "<style scoped>\n",
       "    .dataframe tbody tr th:only-of-type {\n",
       "        vertical-align: middle;\n",
       "    }\n",
       "\n",
       "    .dataframe tbody tr th {\n",
       "        vertical-align: top;\n",
       "    }\n",
       "\n",
       "    .dataframe thead th {\n",
       "        text-align: right;\n",
       "    }\n",
       "</style>\n",
       "<table border=\"1\" class=\"dataframe\">\n",
       "  <thead>\n",
       "    <tr style=\"text-align: right;\">\n",
       "      <th></th>\n",
       "      <th>pca1</th>\n",
       "      <th>pca2</th>\n",
       "    </tr>\n",
       "  </thead>\n",
       "  <tbody>\n",
       "    <tr>\n",
       "      <th>0</th>\n",
       "      <td>-61.148128</td>\n",
       "      <td>35.205312</td>\n",
       "    </tr>\n",
       "    <tr>\n",
       "      <th>1</th>\n",
       "      <td>-67.970086</td>\n",
       "      <td>-29.364059</td>\n",
       "    </tr>\n",
       "    <tr>\n",
       "      <th>2</th>\n",
       "      <td>-60.847661</td>\n",
       "      <td>68.539879</td>\n",
       "    </tr>\n",
       "    <tr>\n",
       "      <th>3</th>\n",
       "      <td>25.069987</td>\n",
       "      <td>-34.692020</td>\n",
       "    </tr>\n",
       "    <tr>\n",
       "      <th>4</th>\n",
       "      <td>-67.630616</td>\n",
       "      <td>4.434377</td>\n",
       "    </tr>\n",
       "    <tr>\n",
       "      <th>...</th>\n",
       "      <td>...</td>\n",
       "      <td>...</td>\n",
       "    </tr>\n",
       "    <tr>\n",
       "      <th>634</th>\n",
       "      <td>113.326807</td>\n",
       "      <td>-25.102879</td>\n",
       "    </tr>\n",
       "    <tr>\n",
       "      <th>635</th>\n",
       "      <td>-64.213047</td>\n",
       "      <td>7.022238</td>\n",
       "    </tr>\n",
       "    <tr>\n",
       "      <th>636</th>\n",
       "      <td>45.966968</td>\n",
       "      <td>-3.073578</td>\n",
       "    </tr>\n",
       "    <tr>\n",
       "      <th>637</th>\n",
       "      <td>-66.652104</td>\n",
       "      <td>15.000844</td>\n",
       "    </tr>\n",
       "    <tr>\n",
       "      <th>638</th>\n",
       "      <td>-66.834199</td>\n",
       "      <td>-22.362640</td>\n",
       "    </tr>\n",
       "  </tbody>\n",
       "</table>\n",
       "<p>639 rows × 2 columns</p>\n",
       "</div>"
      ],
      "text/plain": [
       "           pca1       pca2\n",
       "0    -61.148128  35.205312\n",
       "1    -67.970086 -29.364059\n",
       "2    -60.847661  68.539879\n",
       "3     25.069987 -34.692020\n",
       "4    -67.630616   4.434377\n",
       "..          ...        ...\n",
       "634  113.326807 -25.102879\n",
       "635  -64.213047   7.022238\n",
       "636   45.966968  -3.073578\n",
       "637  -66.652104  15.000844\n",
       "638  -66.834199 -22.362640\n",
       "\n",
       "[639 rows x 2 columns]"
      ]
     },
     "execution_count": 165,
     "metadata": {},
     "output_type": "execute_result"
    }
   ],
   "source": [
    "df_proj"
   ]
  },
  {
   "cell_type": "code",
   "execution_count": 166,
   "id": "91296b86",
   "metadata": {},
   "outputs": [
    {
     "ename": "AttributeError",
     "evalue": "'Series' object has no attribute 'shape1'",
     "output_type": "error",
     "traceback": [
      "\u001b[1;31m---------------------------------------------------------------------------\u001b[0m",
      "\u001b[1;31mAttributeError\u001b[0m                            Traceback (most recent call last)",
      "\u001b[1;32m~\\AppData\\Local\\Temp\\ipykernel_19360\\893086770.py\u001b[0m in \u001b[0;36m<module>\u001b[1;34m\u001b[0m\n\u001b[1;32m----> 1\u001b[1;33m \u001b[0mdf_proj\u001b[0m\u001b[1;33m.\u001b[0m\u001b[0mshape\u001b[0m\u001b[1;33m,\u001b[0m\u001b[0mdf\u001b[0m\u001b[1;33m[\u001b[0m\u001b[1;34m'Outcome'\u001b[0m\u001b[1;33m]\u001b[0m\u001b[1;33m.\u001b[0m\u001b[0mshape1\u001b[0m\u001b[1;33m\u001b[0m\u001b[1;33m\u001b[0m\u001b[0m\n\u001b[0m",
      "\u001b[1;32m~\\anaconda3\\lib\\site-packages\\pandas\\core\\generic.py\u001b[0m in \u001b[0;36m__getattr__\u001b[1;34m(self, name)\u001b[0m\n\u001b[0;32m   5573\u001b[0m         ):\n\u001b[0;32m   5574\u001b[0m             \u001b[1;32mreturn\u001b[0m \u001b[0mself\u001b[0m\u001b[1;33m[\u001b[0m\u001b[0mname\u001b[0m\u001b[1;33m]\u001b[0m\u001b[1;33m\u001b[0m\u001b[1;33m\u001b[0m\u001b[0m\n\u001b[1;32m-> 5575\u001b[1;33m         \u001b[1;32mreturn\u001b[0m \u001b[0mobject\u001b[0m\u001b[1;33m.\u001b[0m\u001b[0m__getattribute__\u001b[0m\u001b[1;33m(\u001b[0m\u001b[0mself\u001b[0m\u001b[1;33m,\u001b[0m \u001b[0mname\u001b[0m\u001b[1;33m)\u001b[0m\u001b[1;33m\u001b[0m\u001b[1;33m\u001b[0m\u001b[0m\n\u001b[0m\u001b[0;32m   5576\u001b[0m \u001b[1;33m\u001b[0m\u001b[0m\n\u001b[0;32m   5577\u001b[0m     \u001b[1;32mdef\u001b[0m \u001b[0m__setattr__\u001b[0m\u001b[1;33m(\u001b[0m\u001b[0mself\u001b[0m\u001b[1;33m,\u001b[0m \u001b[0mname\u001b[0m\u001b[1;33m:\u001b[0m \u001b[0mstr\u001b[0m\u001b[1;33m,\u001b[0m \u001b[0mvalue\u001b[0m\u001b[1;33m)\u001b[0m \u001b[1;33m->\u001b[0m \u001b[1;32mNone\u001b[0m\u001b[1;33m:\u001b[0m\u001b[1;33m\u001b[0m\u001b[1;33m\u001b[0m\u001b[0m\n",
      "\u001b[1;31mAttributeError\u001b[0m: 'Series' object has no attribute 'shape1'"
     ]
    }
   ],
   "source": [
    "df_proj.shape,df['Outcome'].shape"
   ]
  },
  {
   "cell_type": "code",
   "execution_count": null,
   "id": "315431a5",
   "metadata": {},
   "outputs": [],
   "source": [
    "# Making new Dataframe\n",
    "df_new = pd.DataFrame((np.vstack([df_proj['pca1'],df_proj['pca2'],df['Outcome']])).T,columns = ['pca1','pca2','Outcome'])"
   ]
  },
  {
   "cell_type": "code",
   "execution_count": null,
   "id": "25aad51c",
   "metadata": {},
   "outputs": [],
   "source": [
    "df_new"
   ]
  },
  {
   "cell_type": "code",
   "execution_count": null,
   "id": "1b75ebbf",
   "metadata": {},
   "outputs": [],
   "source": [
    "# set plot size\n",
    "plt.rcParams[\"figure.figsize\"] = [5,5]\n",
    "\n",
    "sns.heatmap(df_new.corr(),annot = True, linewidths =0.05, cmap = 'YlGnBu', fmt = '.4f')"
   ]
  },
  {
   "cell_type": "code",
   "execution_count": null,
   "id": "7c96e9c5",
   "metadata": {},
   "outputs": [],
   "source": [
    "# running the model\n",
    "model_fit(df_new, 'Outcome')"
   ]
  },
  {
   "cell_type": "code",
   "execution_count": null,
   "id": "19f0786e",
   "metadata": {},
   "outputs": [],
   "source": [
    "model_fit(df, 'Outcome')"
   ]
  },
  {
   "cell_type": "code",
   "execution_count": null,
   "id": "6b824819",
   "metadata": {},
   "outputs": [],
   "source": []
  }
 ],
 "metadata": {
  "kernelspec": {
   "display_name": "Python 3 (ipykernel)",
   "language": "python",
   "name": "python3"
  },
  "language_info": {
   "codemirror_mode": {
    "name": "ipython",
    "version": 3
   },
   "file_extension": ".py",
   "mimetype": "text/x-python",
   "name": "python",
   "nbconvert_exporter": "python",
   "pygments_lexer": "ipython3",
   "version": "3.9.13"
  }
 },
 "nbformat": 4,
 "nbformat_minor": 5
}
